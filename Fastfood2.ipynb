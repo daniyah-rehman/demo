{
  "cells": [
    {
      "cell_type": "markdown",
      "metadata": {
        "id": "view-in-github",
        "colab_type": "text"
      },
      "source": [
        "<a href=\"https://colab.research.google.com/github/daniyah-rehman/demo/blob/main/Fastfood2.ipynb\" target=\"_parent\"><img src=\"https://colab.research.google.com/assets/colab-badge.svg\" alt=\"Open In Colab\"/></a>"
      ]
    },
    {
      "cell_type": "markdown",
      "source": [
        "Assignment 2: Fast food model\n"
      ],
      "metadata": {
        "id": "L6YMEo_iXWjX"
      }
    },
    {
      "cell_type": "code",
      "execution_count": 4,
      "metadata": {
        "id": "lIYdn1woOS1n"
      },
      "outputs": [],
      "source": [
        "import pandas as pd\n",
        "import numpy as np\n",
        "import matplotlib.pyplot as plt"
      ]
    },
    {
      "cell_type": "code",
      "source": [
        "df=pd.read_csv(\"fastfood.csv\")"
      ],
      "metadata": {
        "id": "bmjhNrA7XtsU"
      },
      "execution_count": 5,
      "outputs": []
    },
    {
      "cell_type": "code",
      "source": [
        "df"
      ],
      "metadata": {
        "id": "DK_SbthCXtou",
        "outputId": "46286e90-7f39-4a31-c588-b4a317998814",
        "colab": {
          "base_uri": "https://localhost:8080/",
          "height": 877
        }
      },
      "execution_count": 6,
      "outputs": [
        {
          "output_type": "execute_result",
          "data": {
            "text/plain": [
              "    restaurant                                       item  calories  cal_fat  \\\n",
              "0    Mcdonalds           Artisan Grilled Chicken Sandwich       380       60   \n",
              "1    Mcdonalds             Single Bacon Smokehouse Burger       840      410   \n",
              "2    Mcdonalds             Double Bacon Smokehouse Burger      1130      600   \n",
              "3    Mcdonalds  Grilled Bacon Smokehouse Chicken Sandwich       750      280   \n",
              "4    Mcdonalds   Crispy Bacon Smokehouse Chicken Sandwich       920      410   \n",
              "..         ...                                        ...       ...      ...   \n",
              "510  Taco Bell             Spicy Triple Double Crunchwrap       780      340   \n",
              "511  Taco Bell                Express Taco Salad w/ Chips       580      260   \n",
              "512  Taco Bell                     Fiesta Taco Salad-Beef       780      380   \n",
              "513  Taco Bell                  Fiesta Taco Salad-Chicken       720      320   \n",
              "514  Taco Bell                    Fiesta Taco Salad-Steak       720      320   \n",
              "\n",
              "     total_fat  sat_fat  trans_fat  cholesterol  sodium  total_carb  fiber  \\\n",
              "0            7      2.0        0.0           95    1110          44    3.0   \n",
              "1           45     17.0        1.5          130    1580          62    2.0   \n",
              "2           67     27.0        3.0          220    1920          63    3.0   \n",
              "3           31     10.0        0.5          155    1940          62    2.0   \n",
              "4           45     12.0        0.5          120    1980          81    4.0   \n",
              "..         ...      ...        ...          ...     ...         ...    ...   \n",
              "510         38     10.0        0.5           50    1850          87    9.0   \n",
              "511         29      9.0        1.0           60    1270          59    8.0   \n",
              "512         42     10.0        1.0           60    1340          74   11.0   \n",
              "513         35      7.0        0.0           70    1260          70    8.0   \n",
              "514         36      8.0        1.0           55    1340          70    8.0   \n",
              "\n",
              "     sugar  protein  vit_a  vit_c  calcium  Healthy  \n",
              "0       11     37.0    4.0   20.0     20.0        1  \n",
              "1       18     46.0    6.0   20.0     20.0        0  \n",
              "2       18     70.0   10.0   20.0     50.0        0  \n",
              "3       18     55.0    6.0   25.0     20.0        1  \n",
              "4       18     46.0    6.0   20.0     20.0        0  \n",
              "..     ...      ...    ...    ...      ...      ...  \n",
              "510      8     23.0   20.0   10.0     25.0        0  \n",
              "511      7     23.0    NaN    NaN      NaN        0  \n",
              "512      7     26.0    NaN    NaN      NaN        0  \n",
              "513      8     32.0    NaN    NaN      NaN        0  \n",
              "514      8     28.0    NaN    NaN      NaN        0  \n",
              "\n",
              "[515 rows x 17 columns]"
            ],
            "text/html": [
              "\n",
              "  <div id=\"df-e7cd55be-ca6a-42b5-b8ae-8d9171d1f8a3\" class=\"colab-df-container\">\n",
              "    <div>\n",
              "<style scoped>\n",
              "    .dataframe tbody tr th:only-of-type {\n",
              "        vertical-align: middle;\n",
              "    }\n",
              "\n",
              "    .dataframe tbody tr th {\n",
              "        vertical-align: top;\n",
              "    }\n",
              "\n",
              "    .dataframe thead th {\n",
              "        text-align: right;\n",
              "    }\n",
              "</style>\n",
              "<table border=\"1\" class=\"dataframe\">\n",
              "  <thead>\n",
              "    <tr style=\"text-align: right;\">\n",
              "      <th></th>\n",
              "      <th>restaurant</th>\n",
              "      <th>item</th>\n",
              "      <th>calories</th>\n",
              "      <th>cal_fat</th>\n",
              "      <th>total_fat</th>\n",
              "      <th>sat_fat</th>\n",
              "      <th>trans_fat</th>\n",
              "      <th>cholesterol</th>\n",
              "      <th>sodium</th>\n",
              "      <th>total_carb</th>\n",
              "      <th>fiber</th>\n",
              "      <th>sugar</th>\n",
              "      <th>protein</th>\n",
              "      <th>vit_a</th>\n",
              "      <th>vit_c</th>\n",
              "      <th>calcium</th>\n",
              "      <th>Healthy</th>\n",
              "    </tr>\n",
              "  </thead>\n",
              "  <tbody>\n",
              "    <tr>\n",
              "      <th>0</th>\n",
              "      <td>Mcdonalds</td>\n",
              "      <td>Artisan Grilled Chicken Sandwich</td>\n",
              "      <td>380</td>\n",
              "      <td>60</td>\n",
              "      <td>7</td>\n",
              "      <td>2.0</td>\n",
              "      <td>0.0</td>\n",
              "      <td>95</td>\n",
              "      <td>1110</td>\n",
              "      <td>44</td>\n",
              "      <td>3.0</td>\n",
              "      <td>11</td>\n",
              "      <td>37.0</td>\n",
              "      <td>4.0</td>\n",
              "      <td>20.0</td>\n",
              "      <td>20.0</td>\n",
              "      <td>1</td>\n",
              "    </tr>\n",
              "    <tr>\n",
              "      <th>1</th>\n",
              "      <td>Mcdonalds</td>\n",
              "      <td>Single Bacon Smokehouse Burger</td>\n",
              "      <td>840</td>\n",
              "      <td>410</td>\n",
              "      <td>45</td>\n",
              "      <td>17.0</td>\n",
              "      <td>1.5</td>\n",
              "      <td>130</td>\n",
              "      <td>1580</td>\n",
              "      <td>62</td>\n",
              "      <td>2.0</td>\n",
              "      <td>18</td>\n",
              "      <td>46.0</td>\n",
              "      <td>6.0</td>\n",
              "      <td>20.0</td>\n",
              "      <td>20.0</td>\n",
              "      <td>0</td>\n",
              "    </tr>\n",
              "    <tr>\n",
              "      <th>2</th>\n",
              "      <td>Mcdonalds</td>\n",
              "      <td>Double Bacon Smokehouse Burger</td>\n",
              "      <td>1130</td>\n",
              "      <td>600</td>\n",
              "      <td>67</td>\n",
              "      <td>27.0</td>\n",
              "      <td>3.0</td>\n",
              "      <td>220</td>\n",
              "      <td>1920</td>\n",
              "      <td>63</td>\n",
              "      <td>3.0</td>\n",
              "      <td>18</td>\n",
              "      <td>70.0</td>\n",
              "      <td>10.0</td>\n",
              "      <td>20.0</td>\n",
              "      <td>50.0</td>\n",
              "      <td>0</td>\n",
              "    </tr>\n",
              "    <tr>\n",
              "      <th>3</th>\n",
              "      <td>Mcdonalds</td>\n",
              "      <td>Grilled Bacon Smokehouse Chicken Sandwich</td>\n",
              "      <td>750</td>\n",
              "      <td>280</td>\n",
              "      <td>31</td>\n",
              "      <td>10.0</td>\n",
              "      <td>0.5</td>\n",
              "      <td>155</td>\n",
              "      <td>1940</td>\n",
              "      <td>62</td>\n",
              "      <td>2.0</td>\n",
              "      <td>18</td>\n",
              "      <td>55.0</td>\n",
              "      <td>6.0</td>\n",
              "      <td>25.0</td>\n",
              "      <td>20.0</td>\n",
              "      <td>1</td>\n",
              "    </tr>\n",
              "    <tr>\n",
              "      <th>4</th>\n",
              "      <td>Mcdonalds</td>\n",
              "      <td>Crispy Bacon Smokehouse Chicken Sandwich</td>\n",
              "      <td>920</td>\n",
              "      <td>410</td>\n",
              "      <td>45</td>\n",
              "      <td>12.0</td>\n",
              "      <td>0.5</td>\n",
              "      <td>120</td>\n",
              "      <td>1980</td>\n",
              "      <td>81</td>\n",
              "      <td>4.0</td>\n",
              "      <td>18</td>\n",
              "      <td>46.0</td>\n",
              "      <td>6.0</td>\n",
              "      <td>20.0</td>\n",
              "      <td>20.0</td>\n",
              "      <td>0</td>\n",
              "    </tr>\n",
              "    <tr>\n",
              "      <th>...</th>\n",
              "      <td>...</td>\n",
              "      <td>...</td>\n",
              "      <td>...</td>\n",
              "      <td>...</td>\n",
              "      <td>...</td>\n",
              "      <td>...</td>\n",
              "      <td>...</td>\n",
              "      <td>...</td>\n",
              "      <td>...</td>\n",
              "      <td>...</td>\n",
              "      <td>...</td>\n",
              "      <td>...</td>\n",
              "      <td>...</td>\n",
              "      <td>...</td>\n",
              "      <td>...</td>\n",
              "      <td>...</td>\n",
              "      <td>...</td>\n",
              "    </tr>\n",
              "    <tr>\n",
              "      <th>510</th>\n",
              "      <td>Taco Bell</td>\n",
              "      <td>Spicy Triple Double Crunchwrap</td>\n",
              "      <td>780</td>\n",
              "      <td>340</td>\n",
              "      <td>38</td>\n",
              "      <td>10.0</td>\n",
              "      <td>0.5</td>\n",
              "      <td>50</td>\n",
              "      <td>1850</td>\n",
              "      <td>87</td>\n",
              "      <td>9.0</td>\n",
              "      <td>8</td>\n",
              "      <td>23.0</td>\n",
              "      <td>20.0</td>\n",
              "      <td>10.0</td>\n",
              "      <td>25.0</td>\n",
              "      <td>0</td>\n",
              "    </tr>\n",
              "    <tr>\n",
              "      <th>511</th>\n",
              "      <td>Taco Bell</td>\n",
              "      <td>Express Taco Salad w/ Chips</td>\n",
              "      <td>580</td>\n",
              "      <td>260</td>\n",
              "      <td>29</td>\n",
              "      <td>9.0</td>\n",
              "      <td>1.0</td>\n",
              "      <td>60</td>\n",
              "      <td>1270</td>\n",
              "      <td>59</td>\n",
              "      <td>8.0</td>\n",
              "      <td>7</td>\n",
              "      <td>23.0</td>\n",
              "      <td>NaN</td>\n",
              "      <td>NaN</td>\n",
              "      <td>NaN</td>\n",
              "      <td>0</td>\n",
              "    </tr>\n",
              "    <tr>\n",
              "      <th>512</th>\n",
              "      <td>Taco Bell</td>\n",
              "      <td>Fiesta Taco Salad-Beef</td>\n",
              "      <td>780</td>\n",
              "      <td>380</td>\n",
              "      <td>42</td>\n",
              "      <td>10.0</td>\n",
              "      <td>1.0</td>\n",
              "      <td>60</td>\n",
              "      <td>1340</td>\n",
              "      <td>74</td>\n",
              "      <td>11.0</td>\n",
              "      <td>7</td>\n",
              "      <td>26.0</td>\n",
              "      <td>NaN</td>\n",
              "      <td>NaN</td>\n",
              "      <td>NaN</td>\n",
              "      <td>0</td>\n",
              "    </tr>\n",
              "    <tr>\n",
              "      <th>513</th>\n",
              "      <td>Taco Bell</td>\n",
              "      <td>Fiesta Taco Salad-Chicken</td>\n",
              "      <td>720</td>\n",
              "      <td>320</td>\n",
              "      <td>35</td>\n",
              "      <td>7.0</td>\n",
              "      <td>0.0</td>\n",
              "      <td>70</td>\n",
              "      <td>1260</td>\n",
              "      <td>70</td>\n",
              "      <td>8.0</td>\n",
              "      <td>8</td>\n",
              "      <td>32.0</td>\n",
              "      <td>NaN</td>\n",
              "      <td>NaN</td>\n",
              "      <td>NaN</td>\n",
              "      <td>0</td>\n",
              "    </tr>\n",
              "    <tr>\n",
              "      <th>514</th>\n",
              "      <td>Taco Bell</td>\n",
              "      <td>Fiesta Taco Salad-Steak</td>\n",
              "      <td>720</td>\n",
              "      <td>320</td>\n",
              "      <td>36</td>\n",
              "      <td>8.0</td>\n",
              "      <td>1.0</td>\n",
              "      <td>55</td>\n",
              "      <td>1340</td>\n",
              "      <td>70</td>\n",
              "      <td>8.0</td>\n",
              "      <td>8</td>\n",
              "      <td>28.0</td>\n",
              "      <td>NaN</td>\n",
              "      <td>NaN</td>\n",
              "      <td>NaN</td>\n",
              "      <td>0</td>\n",
              "    </tr>\n",
              "  </tbody>\n",
              "</table>\n",
              "<p>515 rows × 17 columns</p>\n",
              "</div>\n",
              "    <div class=\"colab-df-buttons\">\n",
              "\n",
              "  <div class=\"colab-df-container\">\n",
              "    <button class=\"colab-df-convert\" onclick=\"convertToInteractive('df-e7cd55be-ca6a-42b5-b8ae-8d9171d1f8a3')\"\n",
              "            title=\"Convert this dataframe to an interactive table.\"\n",
              "            style=\"display:none;\">\n",
              "\n",
              "  <svg xmlns=\"http://www.w3.org/2000/svg\" height=\"24px\" viewBox=\"0 -960 960 960\">\n",
              "    <path d=\"M120-120v-720h720v720H120Zm60-500h600v-160H180v160Zm220 220h160v-160H400v160Zm0 220h160v-160H400v160ZM180-400h160v-160H180v160Zm440 0h160v-160H620v160ZM180-180h160v-160H180v160Zm440 0h160v-160H620v160Z\"/>\n",
              "  </svg>\n",
              "    </button>\n",
              "\n",
              "  <style>\n",
              "    .colab-df-container {\n",
              "      display:flex;\n",
              "      gap: 12px;\n",
              "    }\n",
              "\n",
              "    .colab-df-convert {\n",
              "      background-color: #E8F0FE;\n",
              "      border: none;\n",
              "      border-radius: 50%;\n",
              "      cursor: pointer;\n",
              "      display: none;\n",
              "      fill: #1967D2;\n",
              "      height: 32px;\n",
              "      padding: 0 0 0 0;\n",
              "      width: 32px;\n",
              "    }\n",
              "\n",
              "    .colab-df-convert:hover {\n",
              "      background-color: #E2EBFA;\n",
              "      box-shadow: 0px 1px 2px rgba(60, 64, 67, 0.3), 0px 1px 3px 1px rgba(60, 64, 67, 0.15);\n",
              "      fill: #174EA6;\n",
              "    }\n",
              "\n",
              "    .colab-df-buttons div {\n",
              "      margin-bottom: 4px;\n",
              "    }\n",
              "\n",
              "    [theme=dark] .colab-df-convert {\n",
              "      background-color: #3B4455;\n",
              "      fill: #D2E3FC;\n",
              "    }\n",
              "\n",
              "    [theme=dark] .colab-df-convert:hover {\n",
              "      background-color: #434B5C;\n",
              "      box-shadow: 0px 1px 3px 1px rgba(0, 0, 0, 0.15);\n",
              "      filter: drop-shadow(0px 1px 2px rgba(0, 0, 0, 0.3));\n",
              "      fill: #FFFFFF;\n",
              "    }\n",
              "  </style>\n",
              "\n",
              "    <script>\n",
              "      const buttonEl =\n",
              "        document.querySelector('#df-e7cd55be-ca6a-42b5-b8ae-8d9171d1f8a3 button.colab-df-convert');\n",
              "      buttonEl.style.display =\n",
              "        google.colab.kernel.accessAllowed ? 'block' : 'none';\n",
              "\n",
              "      async function convertToInteractive(key) {\n",
              "        const element = document.querySelector('#df-e7cd55be-ca6a-42b5-b8ae-8d9171d1f8a3');\n",
              "        const dataTable =\n",
              "          await google.colab.kernel.invokeFunction('convertToInteractive',\n",
              "                                                    [key], {});\n",
              "        if (!dataTable) return;\n",
              "\n",
              "        const docLinkHtml = 'Like what you see? Visit the ' +\n",
              "          '<a target=\"_blank\" href=https://colab.research.google.com/notebooks/data_table.ipynb>data table notebook</a>'\n",
              "          + ' to learn more about interactive tables.';\n",
              "        element.innerHTML = '';\n",
              "        dataTable['output_type'] = 'display_data';\n",
              "        await google.colab.output.renderOutput(dataTable, element);\n",
              "        const docLink = document.createElement('div');\n",
              "        docLink.innerHTML = docLinkHtml;\n",
              "        element.appendChild(docLink);\n",
              "      }\n",
              "    </script>\n",
              "  </div>\n",
              "\n",
              "\n",
              "<div id=\"df-92efdc9c-bcf1-40b7-8789-d35785689d3a\">\n",
              "  <button class=\"colab-df-quickchart\" onclick=\"quickchart('df-92efdc9c-bcf1-40b7-8789-d35785689d3a')\"\n",
              "            title=\"Suggest charts.\"\n",
              "            style=\"display:none;\">\n",
              "\n",
              "<svg xmlns=\"http://www.w3.org/2000/svg\" height=\"24px\"viewBox=\"0 0 24 24\"\n",
              "     width=\"24px\">\n",
              "    <g>\n",
              "        <path d=\"M19 3H5c-1.1 0-2 .9-2 2v14c0 1.1.9 2 2 2h14c1.1 0 2-.9 2-2V5c0-1.1-.9-2-2-2zM9 17H7v-7h2v7zm4 0h-2V7h2v10zm4 0h-2v-4h2v4z\"/>\n",
              "    </g>\n",
              "</svg>\n",
              "  </button>\n",
              "\n",
              "<style>\n",
              "  .colab-df-quickchart {\n",
              "      --bg-color: #E8F0FE;\n",
              "      --fill-color: #1967D2;\n",
              "      --hover-bg-color: #E2EBFA;\n",
              "      --hover-fill-color: #174EA6;\n",
              "      --disabled-fill-color: #AAA;\n",
              "      --disabled-bg-color: #DDD;\n",
              "  }\n",
              "\n",
              "  [theme=dark] .colab-df-quickchart {\n",
              "      --bg-color: #3B4455;\n",
              "      --fill-color: #D2E3FC;\n",
              "      --hover-bg-color: #434B5C;\n",
              "      --hover-fill-color: #FFFFFF;\n",
              "      --disabled-bg-color: #3B4455;\n",
              "      --disabled-fill-color: #666;\n",
              "  }\n",
              "\n",
              "  .colab-df-quickchart {\n",
              "    background-color: var(--bg-color);\n",
              "    border: none;\n",
              "    border-radius: 50%;\n",
              "    cursor: pointer;\n",
              "    display: none;\n",
              "    fill: var(--fill-color);\n",
              "    height: 32px;\n",
              "    padding: 0;\n",
              "    width: 32px;\n",
              "  }\n",
              "\n",
              "  .colab-df-quickchart:hover {\n",
              "    background-color: var(--hover-bg-color);\n",
              "    box-shadow: 0 1px 2px rgba(60, 64, 67, 0.3), 0 1px 3px 1px rgba(60, 64, 67, 0.15);\n",
              "    fill: var(--button-hover-fill-color);\n",
              "  }\n",
              "\n",
              "  .colab-df-quickchart-complete:disabled,\n",
              "  .colab-df-quickchart-complete:disabled:hover {\n",
              "    background-color: var(--disabled-bg-color);\n",
              "    fill: var(--disabled-fill-color);\n",
              "    box-shadow: none;\n",
              "  }\n",
              "\n",
              "  .colab-df-spinner {\n",
              "    border: 2px solid var(--fill-color);\n",
              "    border-color: transparent;\n",
              "    border-bottom-color: var(--fill-color);\n",
              "    animation:\n",
              "      spin 1s steps(1) infinite;\n",
              "  }\n",
              "\n",
              "  @keyframes spin {\n",
              "    0% {\n",
              "      border-color: transparent;\n",
              "      border-bottom-color: var(--fill-color);\n",
              "      border-left-color: var(--fill-color);\n",
              "    }\n",
              "    20% {\n",
              "      border-color: transparent;\n",
              "      border-left-color: var(--fill-color);\n",
              "      border-top-color: var(--fill-color);\n",
              "    }\n",
              "    30% {\n",
              "      border-color: transparent;\n",
              "      border-left-color: var(--fill-color);\n",
              "      border-top-color: var(--fill-color);\n",
              "      border-right-color: var(--fill-color);\n",
              "    }\n",
              "    40% {\n",
              "      border-color: transparent;\n",
              "      border-right-color: var(--fill-color);\n",
              "      border-top-color: var(--fill-color);\n",
              "    }\n",
              "    60% {\n",
              "      border-color: transparent;\n",
              "      border-right-color: var(--fill-color);\n",
              "    }\n",
              "    80% {\n",
              "      border-color: transparent;\n",
              "      border-right-color: var(--fill-color);\n",
              "      border-bottom-color: var(--fill-color);\n",
              "    }\n",
              "    90% {\n",
              "      border-color: transparent;\n",
              "      border-bottom-color: var(--fill-color);\n",
              "    }\n",
              "  }\n",
              "</style>\n",
              "\n",
              "  <script>\n",
              "    async function quickchart(key) {\n",
              "      const quickchartButtonEl =\n",
              "        document.querySelector('#' + key + ' button');\n",
              "      quickchartButtonEl.disabled = true;  // To prevent multiple clicks.\n",
              "      quickchartButtonEl.classList.add('colab-df-spinner');\n",
              "      try {\n",
              "        const charts = await google.colab.kernel.invokeFunction(\n",
              "            'suggestCharts', [key], {});\n",
              "      } catch (error) {\n",
              "        console.error('Error during call to suggestCharts:', error);\n",
              "      }\n",
              "      quickchartButtonEl.classList.remove('colab-df-spinner');\n",
              "      quickchartButtonEl.classList.add('colab-df-quickchart-complete');\n",
              "    }\n",
              "    (() => {\n",
              "      let quickchartButtonEl =\n",
              "        document.querySelector('#df-92efdc9c-bcf1-40b7-8789-d35785689d3a button');\n",
              "      quickchartButtonEl.style.display =\n",
              "        google.colab.kernel.accessAllowed ? 'block' : 'none';\n",
              "    })();\n",
              "  </script>\n",
              "</div>\n",
              "    </div>\n",
              "  </div>\n"
            ]
          },
          "metadata": {},
          "execution_count": 6
        }
      ]
    },
    {
      "cell_type": "code",
      "source": [
        "df.dtypes"
      ],
      "metadata": {
        "id": "9JLnl2pSrYHX",
        "outputId": "2b76ad56-d1c2-45c8-8bbf-70bde0ed199b",
        "colab": {
          "base_uri": "https://localhost:8080/"
        }
      },
      "execution_count": 10,
      "outputs": [
        {
          "output_type": "execute_result",
          "data": {
            "text/plain": [
              "restaurant      object\n",
              "item            object\n",
              "calories         int64\n",
              "cal_fat          int64\n",
              "total_fat        int64\n",
              "sat_fat        float64\n",
              "trans_fat      float64\n",
              "cholesterol      int64\n",
              "sodium           int64\n",
              "total_carb       int64\n",
              "fiber          float64\n",
              "sugar            int64\n",
              "protein        float64\n",
              "vit_a          float64\n",
              "vit_c          float64\n",
              "calcium        float64\n",
              "Healthy          int64\n",
              "dtype: object"
            ]
          },
          "metadata": {},
          "execution_count": 10
        }
      ]
    },
    {
      "cell_type": "code",
      "source": [
        "df.isnull().sum()"
      ],
      "metadata": {
        "id": "2agvZKwGavhA",
        "outputId": "bbedf9bc-cff4-4fdb-a6f0-11a42549f691",
        "colab": {
          "base_uri": "https://localhost:8080/"
        }
      },
      "execution_count": 7,
      "outputs": [
        {
          "output_type": "execute_result",
          "data": {
            "text/plain": [
              "restaurant       0\n",
              "item             0\n",
              "calories         0\n",
              "cal_fat          0\n",
              "total_fat        0\n",
              "sat_fat          0\n",
              "trans_fat        0\n",
              "cholesterol      0\n",
              "sodium           0\n",
              "total_carb       0\n",
              "fiber           12\n",
              "sugar            0\n",
              "protein          1\n",
              "vit_a          214\n",
              "vit_c          210\n",
              "calcium        210\n",
              "Healthy          0\n",
              "dtype: int64"
            ]
          },
          "metadata": {},
          "execution_count": 7
        }
      ]
    },
    {
      "cell_type": "code",
      "source": [
        "data=df.fillna('vit_a')"
      ],
      "metadata": {
        "id": "pWVxbAAJbvGU"
      },
      "execution_count": 8,
      "outputs": []
    },
    {
      "cell_type": "code",
      "source": [
        "df.isnull().sum()"
      ],
      "metadata": {
        "id": "9a5Mi6_4cg5J",
        "outputId": "2a7fded1-98c5-4b13-bd13-86d04267878b",
        "colab": {
          "base_uri": "https://localhost:8080/"
        }
      },
      "execution_count": 9,
      "outputs": [
        {
          "output_type": "execute_result",
          "data": {
            "text/plain": [
              "restaurant       0\n",
              "item             0\n",
              "calories         0\n",
              "cal_fat          0\n",
              "total_fat        0\n",
              "sat_fat          0\n",
              "trans_fat        0\n",
              "cholesterol      0\n",
              "sodium           0\n",
              "total_carb       0\n",
              "fiber           12\n",
              "sugar            0\n",
              "protein          1\n",
              "vit_a          214\n",
              "vit_c          210\n",
              "calcium        210\n",
              "Healthy          0\n",
              "dtype: int64"
            ]
          },
          "metadata": {},
          "execution_count": 9
        }
      ]
    },
    {
      "cell_type": "code",
      "source": [
        "df.columns"
      ],
      "metadata": {
        "id": "gSZ-eIxOa3dB",
        "outputId": "f7134b8f-9d6f-4c6b-a1c7-eb9fe4a8a6df",
        "colab": {
          "base_uri": "https://localhost:8080/"
        }
      },
      "execution_count": 11,
      "outputs": [
        {
          "output_type": "execute_result",
          "data": {
            "text/plain": [
              "Index(['restaurant', 'item', 'calories', 'cal_fat', 'total_fat', 'sat_fat',\n",
              "       'trans_fat', 'cholesterol', 'sodium', 'total_carb', 'fiber', 'sugar',\n",
              "       'protein', 'vit_a', 'vit_c', 'calcium', 'Healthy'],\n",
              "      dtype='object')"
            ]
          },
          "metadata": {},
          "execution_count": 11
        }
      ]
    },
    {
      "cell_type": "code",
      "source": [
        "X= df['calories']\n",
        "Y= df['total_fat']"
      ],
      "metadata": {
        "id": "CDPg6OnlaAvb"
      },
      "execution_count": 12,
      "outputs": []
    },
    {
      "cell_type": "code",
      "source": [
        "X.shape"
      ],
      "metadata": {
        "id": "WtQ6ndM7qWfv",
        "outputId": "1584026d-cb51-4ace-a226-31498134b22e",
        "colab": {
          "base_uri": "https://localhost:8080/"
        }
      },
      "execution_count": 13,
      "outputs": [
        {
          "output_type": "execute_result",
          "data": {
            "text/plain": [
              "(515,)"
            ]
          },
          "metadata": {},
          "execution_count": 13
        }
      ]
    },
    {
      "cell_type": "code",
      "source": [
        "Y.shape"
      ],
      "metadata": {
        "id": "BZGsOXbgaAsO",
        "outputId": "80642995-76ef-4d0a-c2a0-9e22ab3f9490",
        "colab": {
          "base_uri": "https://localhost:8080/"
        }
      },
      "execution_count": 14,
      "outputs": [
        {
          "output_type": "execute_result",
          "data": {
            "text/plain": [
              "(515,)"
            ]
          },
          "metadata": {},
          "execution_count": 14
        }
      ]
    },
    {
      "cell_type": "code",
      "source": [
        "df.isnull().sum()"
      ],
      "metadata": {
        "id": "yPYfKRYJsBms",
        "outputId": "469fd7e1-4b12-4bdd-e0d3-8e69a613a8f5",
        "colab": {
          "base_uri": "https://localhost:8080/"
        }
      },
      "execution_count": 15,
      "outputs": [
        {
          "output_type": "execute_result",
          "data": {
            "text/plain": [
              "restaurant       0\n",
              "item             0\n",
              "calories         0\n",
              "cal_fat          0\n",
              "total_fat        0\n",
              "sat_fat          0\n",
              "trans_fat        0\n",
              "cholesterol      0\n",
              "sodium           0\n",
              "total_carb       0\n",
              "fiber           12\n",
              "sugar            0\n",
              "protein          1\n",
              "vit_a          214\n",
              "vit_c          210\n",
              "calcium        210\n",
              "Healthy          0\n",
              "dtype: int64"
            ]
          },
          "metadata": {},
          "execution_count": 15
        }
      ]
    },
    {
      "cell_type": "code",
      "source": [
        "plt.scatter(X,Y,marker=\".\")\n",
        "plt.show()"
      ],
      "metadata": {
        "id": "p_k8OLLRsmRB",
        "outputId": "8b7c87ca-5b38-4c9e-e107-2062ac494a1e",
        "colab": {
          "base_uri": "https://localhost:8080/",
          "height": 430
        }
      },
      "execution_count": 33,
      "outputs": [
        {
          "output_type": "display_data",
          "data": {
            "text/plain": [
              "<Figure size 640x480 with 1 Axes>"
            ],
            "image/png": "[encoded data removed]"
          },
          "metadata": {}
        }
      ]
    },
    {
      "cell_type": "code",
      "source": [
        "from sklearn.model_selection import train_test_split\n",
        "X_train,X_test ,y_train,y_test= train_test_split(X,Y , test_size=0.4, random_state=23)"
      ],
      "metadata": {
        "id": "o5mSKIVlsmNo"
      },
      "execution_count": 19,
      "outputs": []
    },
    {
      "cell_type": "code",
      "source": [
        "X_train"
      ],
      "metadata": {
        "id": "B8rzchsGv28Y",
        "outputId": "01ac2167-a53e-42d0-ba9b-29d2857677d2",
        "colab": {
          "base_uri": "https://localhost:8080/"
        }
      },
      "execution_count": 20,
      "outputs": [
        {
          "output_type": "execute_result",
          "data": {
            "text/plain": [
              "386    140\n",
              "189    420\n",
              "75     210\n",
              "84     710\n",
              "298    380\n",
              "      ... \n",
              "460    600\n",
              "237    410\n",
              "31     690\n",
              "488    480\n",
              "40     180\n",
              "Name: calories, Length: 309, dtype: int64"
            ]
          },
          "metadata": {},
          "execution_count": 20
        }
      ]
    },
    {
      "cell_type": "code",
      "source": [
        "X_test"
      ],
      "metadata": {
        "id": "G_QB_ARMv25F",
        "outputId": "bd856e92-ec68-4965-dc68-93aebe5d7771",
        "colab": {
          "base_uri": "https://localhost:8080/"
        }
      },
      "execution_count": 21,
      "outputs": [
        {
          "output_type": "execute_result",
          "data": {
            "text/plain": [
              "88      380\n",
              "320    1140\n",
              "155     750\n",
              "326     940\n",
              "363     150\n",
              "       ... \n",
              "440     350\n",
              "101    1220\n",
              "507     390\n",
              "44     1770\n",
              "217     990\n",
              "Name: calories, Length: 206, dtype: int64"
            ]
          },
          "metadata": {},
          "execution_count": 21
        }
      ]
    },
    {
      "cell_type": "code",
      "source": [
        "y_train"
      ],
      "metadata": {
        "id": "xl62DEm0wAZD",
        "outputId": "68ccacdf-c0e7-4997-8d01-828000608132",
        "colab": {
          "base_uri": "https://localhost:8080/"
        }
      },
      "execution_count": 24,
      "outputs": [
        {
          "output_type": "execute_result",
          "data": {
            "text/plain": [
              "386     4\n",
              "189    37\n",
              "75      5\n",
              "84     43\n",
              "298    19\n",
              "       ..\n",
              "460    35\n",
              "237    16\n",
              "31     37\n",
              "488    27\n",
              "40     11\n",
              "Name: total_fat, Length: 309, dtype: int64"
            ]
          },
          "metadata": {},
          "execution_count": 24
        }
      ]
    },
    {
      "cell_type": "code",
      "source": [
        "\n",
        "import numpy as np\n",
        "X_train = np.array(X_train).reshape(-1,1)\n",
        "X_train.flatten()"
      ],
      "metadata": {
        "id": "_MopnXOswAVU",
        "outputId": "79cce8ff-df3c-448c-fe57-59030754263d",
        "colab": {
          "base_uri": "https://localhost:8080/"
        }
      },
      "execution_count": 22,
      "outputs": [
        {
          "output_type": "execute_result",
          "data": {
            "text/plain": [
              "array([ 140,  420,  210,  710,  380,  390,  610,  720,  550,  960,  660,\n",
              "        380, 1600,  640,  260, 1260,  350,  430,  500,  290,  420,  380,\n",
              "        540, 1050,  670, 1000,  720,  360,  110,  280,  340,  480,  490,\n",
              "        310,  610,  290,  470,  210,  530,  270,  340,  550,  990,   70,\n",
              "        550,  320,  640,  320,  830,  540,  860,  380,  640,  770,  780,\n",
              "        730,  540,  710,  460,  330,  520,  740,  740,  450,  370,  570,\n",
              "        350,  300,  900,  970,  670, 1000,  600,  670,  650, 1120,  260,\n",
              "        580,  120,  720,  200,  630,  550,  350,  820,  430,  150,  750,\n",
              "        650, 1280,  290, 1220,  220,  380,  620,  170,  740,  730,  150,\n",
              "        280,  390,  570,  480,  320,  350,  370,  290,  540,  780,  200,\n",
              "        610,  640,  680, 1080,  400,  580,  780,  580,  380,  300,  290,\n",
              "        300,  340,  580,  440,  320,  550, 1120,  220,  570,  460,  360,\n",
              "        770,  730,  510,  680,  270,  410,  580,  710,  670,  200,  830,\n",
              "        640,  310,  520,  380,  430,  320,  410,  410,  480,  320,  720,\n",
              "        540,  490,  200,  430,  450,  450,  250,  740,  250,  910,  570,\n",
              "        360,  780,  710,  210,  410,  230, 1100,  190,  350,  760,  280,\n",
              "        320,  140,  540,  560,  700,  510,  380,  700,  620,  260,  150,\n",
              "        280,  550,  320,  560,  810,  760,  840,  360,  720,  700,  560,\n",
              "        170,  960,  430,  250,  650,  920,  350,  440,  640,  610,  550,\n",
              "        350,  220,  880,  330,  280,  180,  630, 1210,  260,  350,  270,\n",
              "        840,  620,  180,  340,  840,  320,  340,  510,  390,  370,  310,\n",
              "        540,  430,  440,  360,  150,  470,  470, 1140,  470,  320,  920,\n",
              "        490,  320,  500,  780,  690,  340,  390,  630,  180,  440,  380,\n",
              "        380,  780,  710,  580,  660, 1030,  520,  480,  550,  420,  540,\n",
              "        570,  350,  200, 1250,  450, 1100,  290,  590,  110,  210,  130,\n",
              "        760,  820,  520,   70,  630,  370,  430,  200,  370,  450,  350,\n",
              "        140,  480,  440, 1550,  730,  490,  440,  330,  270,  530,  410,\n",
              "        230,  300,  160,  710,  600, 2430,  740,  600,  410,  690,  480,\n",
              "        180])"
            ]
          },
          "metadata": {},
          "execution_count": 22
        }
      ]
    },
    {
      "cell_type": "code",
      "source": [
        "X_test = np.array(X_test).reshape(-1,1)\n",
        "X_test\n",
        "X_test.flatten()"
      ],
      "metadata": {
        "id": "AE-JPWWLwJpJ",
        "outputId": "8025e295-747a-498c-df10-86a06b52361b",
        "colab": {
          "base_uri": "https://localhost:8080/"
        }
      },
      "execution_count": 23,
      "outputs": [
        {
          "output_type": "execute_result",
          "data": {
            "text/plain": [
              "array([ 380, 1140,  750,  940,  150,  840,  760,  500,  640,  390,  470,\n",
              "        210,  230,  210,  200,  490,  530,  540, 1160,  580,  400,  190,\n",
              "        600,  330,  940,  630,  200,  240,  300,  200,  960,  340,  400,\n",
              "        760,  700,  330, 1190,  560,  720,  940,  310,  760,  800,  490,\n",
              "        170,  460,  400,  680,  400,  950,  980,  620,  580,  970,  590,\n",
              "        370,  180,  740, 1350,  400,  730,  580,  110,  240,  340,  250,\n",
              "        520,  490,  290,  760,  300,  380,  420,  110,  550,  520,  330,\n",
              "        440,  270,  620,  480,  220,  290,  430,  610, 1030,  690,  640,\n",
              "        410,  570,  740,  280,  170,  140,  450,  230,  450,  470,  740,\n",
              "        690,  470,  830,  350,  170,  580,  340,  740,  530,  570, 1000,\n",
              "        800,  640,  790,  980,  870,  550,  330,  100,  650,  550,  310,\n",
              "        230,  150,  700,  900, 1510,  630,  200,  420,  380,  730,  860,\n",
              "        270,  760,  450, 1130,  640,  420,  500, 1040, 1100,  310,  970,\n",
              "        440,  490,  570,  240,  600,  530,  820,  290,  410,  540,  300,\n",
              "        650, 1000,  680, 1130,  310,  140,  470,   50,  390,  650,  800,\n",
              "        190,   20,  530,  630,  320,  540,  510,  890,  350,  680,  500,\n",
              "        800,  230,  430,  430,  710,  560,  140,  600,  520,  270,  690,\n",
              "        450,  420,  460,  190,  760,  470,  650,  430,  410,  450,  730,\n",
              "        310,  560,  230,  350, 1220,  390, 1770,  990])"
            ]
          },
          "metadata": {},
          "execution_count": 23
        }
      ]
    },
    {
      "cell_type": "code",
      "source": [
        "from sklearn.linear_model import LinearRegression"
      ],
      "metadata": {
        "id": "9H-r6EPcwJl3"
      },
      "execution_count": 25,
      "outputs": []
    },
    {
      "cell_type": "code",
      "source": [
        "lr = LinearRegression()"
      ],
      "metadata": {
        "id": "lagESes2wSzr"
      },
      "execution_count": 26,
      "outputs": []
    },
    {
      "cell_type": "code",
      "source": [
        "\n",
        "lr.fit(X_train, y_train)"
      ],
      "metadata": {
        "id": "m7NoD7-bwSwP",
        "outputId": "35f1c9b9-f1a8-4427-dea8-0a0c6efaa699",
        "colab": {
          "base_uri": "https://localhost:8080/",
          "height": 74
        }
      },
      "execution_count": 27,
      "outputs": [
        {
          "output_type": "execute_result",
          "data": {
            "text/plain": [
              "LinearRegression()"
            ],
            "text/html": [
              "<style>#sk-container-id-1 {color: black;background-color: white;}#sk-container-id-1 pre{padding: 0;}#sk-container-id-1 div.sk-toggleable {background-color: white;}#sk-container-id-1 label.sk-toggleable__label {cursor: pointer;display: block;width: 100%;margin-bottom: 0;padding: 0.3em;box-sizing: border-box;text-align: center;}#sk-container-id-1 label.sk-toggleable__label-arrow:before {content: \"▸\";float: left;margin-right: 0.25em;color: #696969;}#sk-container-id-1 label.sk-toggleable__label-arrow:hover:before {color: black;}#sk-container-id-1 div.sk-estimator:hover label.sk-toggleable__label-arrow:before {color: black;}#sk-container-id-1 div.sk-toggleable__content {max-height: 0;max-width: 0;overflow: hidden;text-align: left;background-color: #f0f8ff;}#sk-container-id-1 div.sk-toggleable__content pre {margin: 0.2em;color: black;border-radius: 0.25em;background-color: #f0f8ff;}#sk-container-id-1 input.sk-toggleable__control:checked~div.sk-toggleable__content {max-height: 200px;max-width: 100%;overflow: auto;}#sk-container-id-1 input.sk-toggleable__control:checked~label.sk-toggleable__label-arrow:before {content: \"▾\";}#sk-container-id-1 div.sk-estimator input.sk-toggleable__control:checked~label.sk-toggleable__label {background-color: #d4ebff;}#sk-container-id-1 div.sk-label input.sk-toggleable__control:checked~label.sk-toggleable__label {background-color: #d4ebff;}#sk-container-id-1 input.sk-hidden--visually {border: 0;clip: rect(1px 1px 1px 1px);clip: rect(1px, 1px, 1px, 1px);height: 1px;margin: -1px;overflow: hidden;padding: 0;position: absolute;width: 1px;}#sk-container-id-1 div.sk-estimator {font-family: monospace;background-color: #f0f8ff;border: 1px dotted black;border-radius: 0.25em;box-sizing: border-box;margin-bottom: 0.5em;}#sk-container-id-1 div.sk-estimator:hover {background-color: #d4ebff;}#sk-container-id-1 div.sk-parallel-item::after {content: \"\";width: 100%;border-bottom: 1px solid gray;flex-grow: 1;}#sk-container-id-1 div.sk-label:hover label.sk-toggleable__label {background-color: #d4ebff;}#sk-container-id-1 div.sk-serial::before {content: \"\";position: absolute;border-left: 1px solid gray;box-sizing: border-box;top: 0;bottom: 0;left: 50%;z-index: 0;}#sk-container-id-1 div.sk-serial {display: flex;flex-direction: column;align-items: center;background-color: white;padding-right: 0.2em;padding-left: 0.2em;position: relative;}#sk-container-id-1 div.sk-item {position: relative;z-index: 1;}#sk-container-id-1 div.sk-parallel {display: flex;align-items: stretch;justify-content: center;background-color: white;position: relative;}#sk-container-id-1 div.sk-item::before, #sk-container-id-1 div.sk-parallel-item::before {content: \"\";position: absolute;border-left: 1px solid gray;box-sizing: border-box;top: 0;bottom: 0;left: 50%;z-index: -1;}#sk-container-id-1 div.sk-parallel-item {display: flex;flex-direction: column;z-index: 1;position: relative;background-color: white;}#sk-container-id-1 div.sk-parallel-item:first-child::after {align-self: flex-end;width: 50%;}#sk-container-id-1 div.sk-parallel-item:last-child::after {align-self: flex-start;width: 50%;}#sk-container-id-1 div.sk-parallel-item:only-child::after {width: 0;}#sk-container-id-1 div.sk-dashed-wrapped {border: 1px dashed gray;margin: 0 0.4em 0.5em 0.4em;box-sizing: border-box;padding-bottom: 0.4em;background-color: white;}#sk-container-id-1 div.sk-label label {font-family: monospace;font-weight: bold;display: inline-block;line-height: 1.2em;}#sk-container-id-1 div.sk-label-container {text-align: center;}#sk-container-id-1 div.sk-container {/* jupyter's `normalize.less` sets `[hidden] { display: none; }` but bootstrap.min.css set `[hidden] { display: none !important; }` so we also need the `!important` here to be able to override the default hidden behavior on the sphinx rendered scikit-learn.org. See: https://github.com/scikit-learn/scikit-learn/issues/21755 */display: inline-block !important;position: relative;}#sk-container-id-1 div.sk-text-repr-fallback {display: none;}</style><div id=\"sk-container-id-1\" class=\"sk-top-container\"><div class=\"sk-text-repr-fallback\"><pre>LinearRegression()</pre><b>In a Jupyter environment, please rerun this cell to show the HTML representation or trust the notebook. <br />On GitHub, the HTML representation is unable to render, please try loading this page with nbviewer.org.</b></div><div class=\"sk-container\" hidden><div class=\"sk-item\"><div class=\"sk-estimator sk-toggleable\"><input class=\"sk-toggleable__control sk-hidden--visually\" id=\"sk-estimator-id-1\" type=\"checkbox\" checked><label for=\"sk-estimator-id-1\" class=\"sk-toggleable__label sk-toggleable__label-arrow\">LinearRegression</label><div class=\"sk-toggleable__content\"><pre>LinearRegression()</pre></div></div></div></div></div>"
            ]
          },
          "metadata": {},
          "execution_count": 27
        }
      ]
    },
    {
      "cell_type": "code",
      "source": [
        "c=lr.intercept_\n",
        "c"
      ],
      "metadata": {
        "id": "YH3VqPUEwcYO",
        "outputId": "036fd5ab-b1be-4e14-af12-2863f1ee4227",
        "colab": {
          "base_uri": "https://localhost:8080/"
        }
      },
      "execution_count": 28,
      "outputs": [
        {
          "output_type": "execute_result",
          "data": {
            "text/plain": [
              "-5.341724549878798"
            ]
          },
          "metadata": {},
          "execution_count": 28
        }
      ]
    },
    {
      "cell_type": "code",
      "source": [
        "m=lr.coef_\n",
        "m"
      ],
      "metadata": {
        "id": "HnkXYrvnwcUz",
        "outputId": "f6be7d2e-a80d-495b-99b9-ff82b8084a00",
        "colab": {
          "base_uri": "https://localhost:8080/"
        }
      },
      "execution_count": 29,
      "outputs": [
        {
          "output_type": "execute_result",
          "data": {
            "text/plain": [
              "array([0.06006436])"
            ]
          },
          "metadata": {},
          "execution_count": 29
        }
      ]
    },
    {
      "cell_type": "code",
      "source": [
        "Y_pred_train=m*X_train+c\n",
        "Y_pred_train.flatten()"
      ],
      "metadata": {
        "id": "fGK8shQ-wcSe",
        "outputId": "c0d0ddb3-fa81-41eb-9dda-d7a22ca97d4b",
        "colab": {
          "base_uri": "https://localhost:8080/"
        }
      },
      "execution_count": 30,
      "outputs": [
        {
          "output_type": "execute_result",
          "data": {
            "text/plain": [
              "array([  3.06728644,  19.88530841,   7.27179193,  37.30397403,\n",
              "        17.48273384,  18.08337748,  31.29753761,  37.90461767,\n",
              "        27.69367576,  52.32006507,  34.30075582,  17.48273384,\n",
              "        90.76125816,  33.09946853,  10.27501014,  70.33937433,\n",
              "        15.68080292,  20.48595205,  24.69045755,  12.07694107,\n",
              "        19.88530841,  17.48273384,  27.09303211,  57.72585785,\n",
              "        34.90139946,  54.72263964,  37.90461767,  16.28144656,\n",
              "         1.26535551,  11.47629742,  15.08015928,  23.48917026,\n",
              "        24.0898139 ,  13.27822835,  31.29753761,  12.07694107,\n",
              "        22.88852662,   7.27179193,  26.49238847,  10.87565378,\n",
              "        15.08015928,  27.69367576,  54.121996  ,  -1.13721906,\n",
              "        27.69367576,  13.87887199,  33.09946853,  13.87887199,\n",
              "        44.51169773,  27.09303211,  46.31362865,  17.48273384,\n",
              "        33.09946853,  40.90783588,  41.50847952,  38.50526131,\n",
              "        27.09303211,  37.30397403,  22.28788298,  14.47951563,\n",
              "        25.89174483,  39.10590495,  39.10590495,  21.68723934,\n",
              "        16.8820902 ,  28.89496304,  15.68080292,  12.67758471,\n",
              "        48.71620322,  52.92070872,  34.90139946,  54.72263964,\n",
              "        30.69689396,  34.90139946,  33.70011217,  61.93036334,\n",
              "        10.27501014,  29.49560668,   1.86599915,  37.90461767,\n",
              "         6.67114829,  32.49882489,  27.69367576,  15.68080292,\n",
              "        43.91105409,  20.48595205,   3.66793008,  39.70654859,\n",
              "        33.70011217,  71.54066161,  12.07694107,  67.93679976,\n",
              "         7.87243557,  17.48273384,  31.89818125,   4.86921736,\n",
              "        39.10590495,  38.50526131,   3.66793008,  11.47629742,\n",
              "        18.08337748,  28.89496304,  23.48917026,  13.87887199,\n",
              "        15.68080292,  16.8820902 ,  12.07694107,  27.09303211,\n",
              "        41.50847952,   6.67114829,  31.29753761,  33.09946853,\n",
              "        35.5020431 ,  59.52778878,  18.68402113,  29.49560668,\n",
              "        41.50847952,  29.49560668,  17.48273384,  12.67758471,\n",
              "        12.07694107,  12.67758471,  15.08015928,  29.49560668,\n",
              "        21.08659569,  13.87887199,  27.69367576,  61.93036334,\n",
              "         7.87243557,  28.89496304,  22.28788298,  16.28144656,\n",
              "        40.90783588,  38.50526131,  25.29110119,  35.5020431 ,\n",
              "        10.87565378,  19.28466477,  29.49560668,  37.30397403,\n",
              "        34.90139946,   6.67114829,  44.51169773,  33.09946853,\n",
              "        13.27822835,  25.89174483,  17.48273384,  20.48595205,\n",
              "        13.87887199,  19.28466477,  19.28466477,  23.48917026,\n",
              "        13.87887199,  37.90461767,  27.09303211,  24.0898139 ,\n",
              "         6.67114829,  20.48595205,  21.68723934,  21.68723934,\n",
              "         9.6743665 ,  39.10590495,   9.6743665 ,  49.31684686,\n",
              "        28.89496304,  16.28144656,  41.50847952,  37.30397403,\n",
              "         7.27179193,  19.28466477,   8.47307921,  60.72907606,\n",
              "         6.07050465,  15.68080292,  40.30719224,  11.47629742,\n",
              "        13.87887199,   3.06728644,  27.09303211,  28.2943194 ,\n",
              "        36.70333038,  25.29110119,  17.48273384,  36.70333038,\n",
              "        31.89818125,  10.27501014,   3.66793008,  11.47629742,\n",
              "        27.69367576,  13.87887199,  28.2943194 ,  43.31041044,\n",
              "        40.30719224,  45.11234137,  16.28144656,  37.90461767,\n",
              "        36.70333038,  28.2943194 ,   4.86921736,  52.32006507,\n",
              "        20.48595205,   9.6743665 ,  33.70011217,  49.91749051,\n",
              "        15.68080292,  21.08659569,  33.09946853,  31.29753761,\n",
              "        27.69367576,  15.68080292,   7.87243557,  47.51491594,\n",
              "        14.47951563,  11.47629742,   5.469861  ,  32.49882489,\n",
              "        67.33615612,  10.27501014,  15.68080292,  10.87565378,\n",
              "        45.11234137,  31.89818125,   5.469861  ,  15.08015928,\n",
              "        45.11234137,  13.87887199,  15.08015928,  25.29110119,\n",
              "        18.08337748,  16.8820902 ,  13.27822835,  27.09303211,\n",
              "        20.48595205,  21.08659569,  16.28144656,   3.66793008,\n",
              "        22.88852662,  22.88852662,  63.13165063,  22.88852662,\n",
              "        13.87887199,  49.91749051,  24.0898139 ,  13.87887199,\n",
              "        24.69045755,  41.50847952,  36.10268674,  15.08015928,\n",
              "        18.08337748,  32.49882489,   5.469861  ,  21.08659569,\n",
              "        17.48273384,  17.48273384,  41.50847952,  37.30397403,\n",
              "        29.49560668,  34.30075582,  56.52457057,  25.89174483,\n",
              "        23.48917026,  27.69367576,  19.88530841,  27.09303211,\n",
              "        28.89496304,  15.68080292,   6.67114829,  69.73873069,\n",
              "        21.68723934,  60.72907606,  12.07694107,  30.09625032,\n",
              "         1.26535551,   7.27179193,   2.46664279,  40.30719224,\n",
              "        43.91105409,  25.89174483,  -1.13721906,  32.49882489,\n",
              "        16.8820902 ,  20.48595205,   6.67114829,  16.8820902 ,\n",
              "        21.68723934,  15.68080292,   3.06728644,  23.48917026,\n",
              "        21.08659569,  87.75803995,  38.50526131,  24.0898139 ,\n",
              "        21.08659569,  14.47951563,  10.87565378,  26.49238847,\n",
              "        19.28466477,   8.47307921,  12.67758471,   4.26857372,\n",
              "        37.30397403,  30.69689396, 140.61468043,  39.10590495,\n",
              "        30.69689396,  19.28466477,  36.10268674,  23.48917026,\n",
              "         5.469861  ])"
            ]
          },
          "metadata": {},
          "execution_count": 30
        }
      ]
    },
    {
      "cell_type": "code",
      "source": [
        "Y_pred_train1= lr.predict(X_train)\n",
        "Y_pred_train1.flatten()"
      ],
      "metadata": {
        "id": "GNvGcXoWwlcn",
        "outputId": "77e253e5-b117-4496-b5bb-ff4c61b0883b",
        "colab": {
          "base_uri": "https://localhost:8080/"
        }
      },
      "execution_count": 31,
      "outputs": [
        {
          "output_type": "execute_result",
          "data": {
            "text/plain": [
              "array([  3.06728644,  19.88530841,   7.27179193,  37.30397403,\n",
              "        17.48273384,  18.08337748,  31.29753761,  37.90461767,\n",
              "        27.69367576,  52.32006507,  34.30075582,  17.48273384,\n",
              "        90.76125816,  33.09946853,  10.27501014,  70.33937433,\n",
              "        15.68080292,  20.48595205,  24.69045755,  12.07694107,\n",
              "        19.88530841,  17.48273384,  27.09303211,  57.72585785,\n",
              "        34.90139946,  54.72263964,  37.90461767,  16.28144656,\n",
              "         1.26535551,  11.47629742,  15.08015928,  23.48917026,\n",
              "        24.0898139 ,  13.27822835,  31.29753761,  12.07694107,\n",
              "        22.88852662,   7.27179193,  26.49238847,  10.87565378,\n",
              "        15.08015928,  27.69367576,  54.121996  ,  -1.13721906,\n",
              "        27.69367576,  13.87887199,  33.09946853,  13.87887199,\n",
              "        44.51169773,  27.09303211,  46.31362865,  17.48273384,\n",
              "        33.09946853,  40.90783588,  41.50847952,  38.50526131,\n",
              "        27.09303211,  37.30397403,  22.28788298,  14.47951563,\n",
              "        25.89174483,  39.10590495,  39.10590495,  21.68723934,\n",
              "        16.8820902 ,  28.89496304,  15.68080292,  12.67758471,\n",
              "        48.71620322,  52.92070872,  34.90139946,  54.72263964,\n",
              "        30.69689396,  34.90139946,  33.70011217,  61.93036334,\n",
              "        10.27501014,  29.49560668,   1.86599915,  37.90461767,\n",
              "         6.67114829,  32.49882489,  27.69367576,  15.68080292,\n",
              "        43.91105409,  20.48595205,   3.66793008,  39.70654859,\n",
              "        33.70011217,  71.54066161,  12.07694107,  67.93679976,\n",
              "         7.87243557,  17.48273384,  31.89818125,   4.86921736,\n",
              "        39.10590495,  38.50526131,   3.66793008,  11.47629742,\n",
              "        18.08337748,  28.89496304,  23.48917026,  13.87887199,\n",
              "        15.68080292,  16.8820902 ,  12.07694107,  27.09303211,\n",
              "        41.50847952,   6.67114829,  31.29753761,  33.09946853,\n",
              "        35.5020431 ,  59.52778878,  18.68402113,  29.49560668,\n",
              "        41.50847952,  29.49560668,  17.48273384,  12.67758471,\n",
              "        12.07694107,  12.67758471,  15.08015928,  29.49560668,\n",
              "        21.08659569,  13.87887199,  27.69367576,  61.93036334,\n",
              "         7.87243557,  28.89496304,  22.28788298,  16.28144656,\n",
              "        40.90783588,  38.50526131,  25.29110119,  35.5020431 ,\n",
              "        10.87565378,  19.28466477,  29.49560668,  37.30397403,\n",
              "        34.90139946,   6.67114829,  44.51169773,  33.09946853,\n",
              "        13.27822835,  25.89174483,  17.48273384,  20.48595205,\n",
              "        13.87887199,  19.28466477,  19.28466477,  23.48917026,\n",
              "        13.87887199,  37.90461767,  27.09303211,  24.0898139 ,\n",
              "         6.67114829,  20.48595205,  21.68723934,  21.68723934,\n",
              "         9.6743665 ,  39.10590495,   9.6743665 ,  49.31684686,\n",
              "        28.89496304,  16.28144656,  41.50847952,  37.30397403,\n",
              "         7.27179193,  19.28466477,   8.47307921,  60.72907606,\n",
              "         6.07050465,  15.68080292,  40.30719224,  11.47629742,\n",
              "        13.87887199,   3.06728644,  27.09303211,  28.2943194 ,\n",
              "        36.70333038,  25.29110119,  17.48273384,  36.70333038,\n",
              "        31.89818125,  10.27501014,   3.66793008,  11.47629742,\n",
              "        27.69367576,  13.87887199,  28.2943194 ,  43.31041044,\n",
              "        40.30719224,  45.11234137,  16.28144656,  37.90461767,\n",
              "        36.70333038,  28.2943194 ,   4.86921736,  52.32006507,\n",
              "        20.48595205,   9.6743665 ,  33.70011217,  49.91749051,\n",
              "        15.68080292,  21.08659569,  33.09946853,  31.29753761,\n",
              "        27.69367576,  15.68080292,   7.87243557,  47.51491594,\n",
              "        14.47951563,  11.47629742,   5.469861  ,  32.49882489,\n",
              "        67.33615612,  10.27501014,  15.68080292,  10.87565378,\n",
              "        45.11234137,  31.89818125,   5.469861  ,  15.08015928,\n",
              "        45.11234137,  13.87887199,  15.08015928,  25.29110119,\n",
              "        18.08337748,  16.8820902 ,  13.27822835,  27.09303211,\n",
              "        20.48595205,  21.08659569,  16.28144656,   3.66793008,\n",
              "        22.88852662,  22.88852662,  63.13165063,  22.88852662,\n",
              "        13.87887199,  49.91749051,  24.0898139 ,  13.87887199,\n",
              "        24.69045755,  41.50847952,  36.10268674,  15.08015928,\n",
              "        18.08337748,  32.49882489,   5.469861  ,  21.08659569,\n",
              "        17.48273384,  17.48273384,  41.50847952,  37.30397403,\n",
              "        29.49560668,  34.30075582,  56.52457057,  25.89174483,\n",
              "        23.48917026,  27.69367576,  19.88530841,  27.09303211,\n",
              "        28.89496304,  15.68080292,   6.67114829,  69.73873069,\n",
              "        21.68723934,  60.72907606,  12.07694107,  30.09625032,\n",
              "         1.26535551,   7.27179193,   2.46664279,  40.30719224,\n",
              "        43.91105409,  25.89174483,  -1.13721906,  32.49882489,\n",
              "        16.8820902 ,  20.48595205,   6.67114829,  16.8820902 ,\n",
              "        21.68723934,  15.68080292,   3.06728644,  23.48917026,\n",
              "        21.08659569,  87.75803995,  38.50526131,  24.0898139 ,\n",
              "        21.08659569,  14.47951563,  10.87565378,  26.49238847,\n",
              "        19.28466477,   8.47307921,  12.67758471,   4.26857372,\n",
              "        37.30397403,  30.69689396, 140.61468043,  39.10590495,\n",
              "        30.69689396,  19.28466477,  36.10268674,  23.48917026,\n",
              "         5.469861  ])"
            ]
          },
          "metadata": {},
          "execution_count": 31
        }
      ]
    },
    {
      "cell_type": "code",
      "source": [
        "import matplotlib.pyplot as plt\n",
        "plt.scatter(X_train, y_train)\n",
        "plt.plot(X_train, Y_pred_train1, color='red')\n",
        "plt.xlabel(\"calories\")\n",
        "plt.ylabel(\"trans_fat\")"
      ],
      "metadata": {
        "id": "GhJ1rMGlwlZT",
        "outputId": "5557d2a7-8529-4144-8460-623f048442b9",
        "colab": {
          "base_uri": "https://localhost:8080/",
          "height": 466
        }
      },
      "execution_count": 34,
      "outputs": [
        {
          "output_type": "execute_result",
          "data": {
            "text/plain": [
              "Text(0, 0.5, 'trans_fat')"
            ]
          },
          "metadata": {},
          "execution_count": 34
        },
        {
          "output_type": "display_data",
          "data": {
            "text/plain": [
              "<Figure size 640x480 with 1 Axes>"
            ],
            "image/png": "[encoded data removed]"
          },
          "metadata": {}
        }
      ]
    },
    {
      "cell_type": "code",
      "source": [
        "Y_pred_test1= lr.predict(X_test)\n",
        "Y_pred_test1.flatten()"
      ],
      "metadata": {
        "id": "4zHbcn40wlWZ",
        "outputId": "132a9021-0ddf-46e6-fd86-2682edb76416",
        "colab": {
          "base_uri": "https://localhost:8080/"
        }
      },
      "execution_count": 35,
      "outputs": [
        {
          "output_type": "execute_result",
          "data": {
            "text/plain": [
              "array([ 17.48273384,  63.13165063,  39.70654859,  51.11877779,\n",
              "         3.66793008,  45.11234137,  40.30719224,  24.69045755,\n",
              "        33.09946853,  18.08337748,  22.88852662,   7.27179193,\n",
              "         8.47307921,   7.27179193,   6.67114829,  24.0898139 ,\n",
              "        26.49238847,  27.09303211,  64.33293791,  29.49560668,\n",
              "        18.68402113,   6.07050465,  30.69689396,  14.47951563,\n",
              "        51.11877779,  32.49882489,   6.67114829,   9.07372286,\n",
              "        12.67758471,   6.67114829,  52.32006507,  15.08015928,\n",
              "        18.68402113,  40.30719224,  36.70333038,  14.47951563,\n",
              "        66.13486884,  28.2943194 ,  37.90461767,  51.11877779,\n",
              "        13.27822835,  40.30719224,  42.7097668 ,  24.0898139 ,\n",
              "         4.86921736,  22.28788298,  18.68402113,  35.5020431 ,\n",
              "        18.68402113,  51.71942143,  53.52135236,  31.89818125,\n",
              "        29.49560668,  52.92070872,  30.09625032,  16.8820902 ,\n",
              "         5.469861  ,  39.10590495,  75.74516711,  18.68402113,\n",
              "        38.50526131,  29.49560668,   1.26535551,   9.07372286,\n",
              "        15.08015928,   9.6743665 ,  25.89174483,  24.0898139 ,\n",
              "        12.07694107,  40.30719224,  12.67758471,  17.48273384,\n",
              "        19.88530841,   1.26535551,  27.69367576,  25.89174483,\n",
              "        14.47951563,  21.08659569,  10.87565378,  31.89818125,\n",
              "        23.48917026,   7.87243557,  12.07694107,  20.48595205,\n",
              "        31.29753761,  56.52457057,  36.10268674,  33.09946853,\n",
              "        19.28466477,  28.89496304,  39.10590495,  11.47629742,\n",
              "         4.86921736,   3.06728644,  21.68723934,   8.47307921,\n",
              "        21.68723934,  22.88852662,  39.10590495,  36.10268674,\n",
              "        22.88852662,  44.51169773,  15.68080292,   4.86921736,\n",
              "        29.49560668,  15.08015928,  39.10590495,  26.49238847,\n",
              "        28.89496304,  54.72263964,  42.7097668 ,  33.09946853,\n",
              "        42.10912316,  53.52135236,  46.9142723 ,  27.69367576,\n",
              "        14.47951563,   0.66471187,  33.70011217,  27.69367576,\n",
              "        13.27822835,   8.47307921,   3.66793008,  36.70333038,\n",
              "        48.71620322,  85.35546538,  32.49882489,   6.67114829,\n",
              "        19.88530841,  17.48273384,  38.50526131,  46.31362865,\n",
              "        10.87565378,  40.30719224,  21.68723934,  62.53100699,\n",
              "        33.09946853,  19.88530841,  24.69045755,  57.12521421,\n",
              "        60.72907606,  13.27822835,  52.92070872,  21.08659569,\n",
              "        24.0898139 ,  28.89496304,   9.07372286,  30.69689396,\n",
              "        26.49238847,  43.91105409,  12.07694107,  19.28466477,\n",
              "        27.09303211,  12.67758471,  33.70011217,  54.72263964,\n",
              "        35.5020431 ,  62.53100699,  13.27822835,   3.06728644,\n",
              "        22.88852662,  -2.33850634,  18.08337748,  33.70011217,\n",
              "        42.7097668 ,   6.07050465,  -4.14043727,  26.49238847,\n",
              "        32.49882489,  13.87887199,  27.09303211,  25.29110119,\n",
              "        48.11555958,  15.68080292,  35.5020431 ,  24.69045755,\n",
              "        42.7097668 ,   8.47307921,  20.48595205,  20.48595205,\n",
              "        37.30397403,  28.2943194 ,   3.06728644,  30.69689396,\n",
              "        25.89174483,  10.87565378,  36.10268674,  21.68723934,\n",
              "        19.88530841,  22.28788298,   6.07050465,  40.30719224,\n",
              "        22.88852662,  33.70011217,  20.48595205,  19.28466477,\n",
              "        21.68723934,  38.50526131,  13.27822835,  28.2943194 ,\n",
              "         8.47307921,  15.68080292,  67.93679976,  18.08337748,\n",
              "       100.97220007,  54.121996  ])"
            ]
          },
          "metadata": {},
          "execution_count": 35
        }
      ]
    },
    {
      "cell_type": "code",
      "source": [
        "import matplotlib.pyplot as plt\n",
        "plt.scatter(X_test, y_test)\n",
        "plt.plot(X_test, Y_pred_test1, color='red')\n",
        "plt.xlabel(\"car_ID\")\n",
        "plt.ylabel(\"price\")"
      ],
      "metadata": {
        "id": "tjM7E2uZxHOj",
        "outputId": "d30edae0-37d4-4a98-bcf9-8fda277e30b6",
        "colab": {
          "base_uri": "https://localhost:8080/",
          "height": 466
        }
      },
      "execution_count": 36,
      "outputs": [
        {
          "output_type": "execute_result",
          "data": {
            "text/plain": [
              "Text(0, 0.5, 'price')"
            ]
          },
          "metadata": {},
          "execution_count": 36
        },
        {
          "output_type": "display_data",
          "data": {
            "text/plain": [
              "<Figure size 640x480 with 1 Axes>"
            ],
            "image/png": "[encoded data removed]"
          },
          "metadata": {}
        }
      ]
    }
  ],
  "metadata": {
    "colab": {
      "name": "scratchpad",
      "provenance": [],
      "include_colab_link": true
    },
    "kernelspec": {
      "display_name": "Python 3",
      "name": "python3"
    }
  },
  "nbformat": 4,
  "nbformat_minor": 0
}