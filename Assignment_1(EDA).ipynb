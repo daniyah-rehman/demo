{
  "nbformat": 4,
  "nbformat_minor": 0,
  "metadata": {
    "colab": {
      "provenance": [],
      "gpuType": "T4",
      "authorship_tag": "ABX9TyPDZdozTpDT96cypgwSgVHX",
      "include_colab_link": true
    },
    "kernelspec": {
      "name": "python3",
      "display_name": "Python 3"
    },
    "language_info": {
      "name": "python"
    },
    "accelerator": "GPU"
  },
  "cells": [
    {
      "cell_type": "markdown",
      "metadata": {
        "id": "view-in-github",
        "colab_type": "text"
      },
      "source": [
        "<a href=\"https://colab.research.google.com/github/daniyah-rehman/demo/blob/main/Assignment_1(EDA).ipynb\" target=\"_parent\"><img src=\"https://colab.research.google.com/assets/colab-badge.svg\" alt=\"Open In Colab\"/></a>"
      ]
    },
    {
      "cell_type": "code",
      "execution_count": 1,
      "metadata": {
        "id": "aIIppEqS7C-U"
      },
      "outputs": [],
      "source": [
        "import pandas as pd\n",
        "import numpy as np\n",
        "import matplotlib as plt"
      ]
    },
    {
      "cell_type": "code",
      "source": [
        "!wget https://www.kaggle.com/datasets/aestheteaman01/zomato-restaurants-in-delhi-ncr"
      ],
      "metadata": {
        "colab": {
          "base_uri": "https://localhost:8080/"
        },
        "id": "05qyb1El7IQL",
        "outputId": "3de59fe7-8768-4206-e294-16bef6407fcd"
      },
      "execution_count": 2,
      "outputs": [
        {
          "output_type": "stream",
          "name": "stdout",
          "text": [
            "--2023-09-07 13:52:23--  https://www.kaggle.com/datasets/aestheteaman01/zomato-restaurants-in-delhi-ncr\n",
            "Resolving www.kaggle.com (www.kaggle.com)... 35.244.233.98\n",
            "Connecting to www.kaggle.com (www.kaggle.com)|35.244.233.98|:443... connected.\n",
            "HTTP request sent, awaiting response... 200 OK\n",
            "Length: unspecified [text/html]\n",
            "Saving to: ‘zomato-restaurants-in-delhi-ncr’\n",
            "\n",
            "zomato-restaurants-     [ <=>                ]  15.99K  --.-KB/s    in 0.03s   \n",
            "\n",
            "2023-09-07 13:52:23 (598 KB/s) - ‘zomato-restaurants-in-delhi-ncr’ saved [16372]\n",
            "\n"
          ]
        }
      ]
    },
    {
      "cell_type": "code",
      "source": [
        "data=pd.read_csv(\"DelhiNCR_Restaurants.csv\")"
      ],
      "metadata": {
        "id": "Nol0k1aL7IM7"
      },
      "execution_count": 4,
      "outputs": []
    },
    {
      "cell_type": "markdown",
      "source": [
        "Q1.Are there any null values in the dataset?if yes then fill them.."
      ],
      "metadata": {
        "id": "yoUeo48AARDM"
      }
    },
    {
      "cell_type": "code",
      "source": [
        "data"
      ],
      "metadata": {
        "colab": {
          "base_uri": "https://localhost:8080/",
          "height": 1000
        },
        "id": "W7tMFpYwcaiS",
        "outputId": "9c1fec9f-6bab-4474-fdf2-1fe7c9eb286c"
      },
      "execution_count": 146,
      "outputs": [
        {
          "output_type": "execute_result",
          "data": {
            "text/plain": [
              "             Restaurant_Name  \\\n",
              "0                   Rustom's   \n",
              "1                  Cafe Lota   \n",
              "2     Dum-Pukht - ITC Maurya   \n",
              "3                Burma Burma   \n",
              "4              The Big Chill   \n",
              "...                      ...   \n",
              "1960          Bablu Chic-Inn   \n",
              "1961               Kovilakam   \n",
              "1962        Krips Restaurant   \n",
              "1963                Cafe 147   \n",
              "1964                Pizzasia   \n",
              "\n",
              "                                               Category  Pricing_for_2  \\\n",
              "0     Parsi, Street Food, North Indian, Desserts, Be...           2100   \n",
              "1           Cafe, South Indian, North Indian, Beverages           1200   \n",
              "2                       Mughlai, North Indian, Desserts           5000   \n",
              "3           Asian, Burmese, Bubble Tea, Desserts, Salad           1600   \n",
              "4                        Continental, American, Italian           1500   \n",
              "...                                                 ...            ...   \n",
              "1960          Mughlai, North Indian, Chinese, Fast Food            500   \n",
              "1961                                       South Indian            350   \n",
              "1962                     North Indian, Chinese, Mughlai            900   \n",
              "1963  Cafe, North Indian, Chinese, Kashmiri, Rolls, ...            800   \n",
              "1964                        Pizza, Fast Food, Beverages            500   \n",
              "\n",
              "                                         Locality  Dining_Rating  \\\n",
              "0                                  ITO, New Delhi            4.9   \n",
              "1                       Pragati Maidan, New Delhi            4.9   \n",
              "2             ITC Maurya, Chanakyapuri, New Delhi            4.9   \n",
              "3              Cyber Hub, DLF Cyber City, Gurgaon            4.9   \n",
              "4                          Khan Market, New Delhi            4.9   \n",
              "...                                           ...            ...   \n",
              "1960               Ashok Vihar Phase 3, New Delhi            3.9   \n",
              "1961                    Dilshad Garden, New Delhi            3.9   \n",
              "1962   Basant Lok Market, Vasant Vihar, New Delhi            3.9   \n",
              "1963                      Sainik Farms, New Delhi            3.9   \n",
              "1964                   Gaur City 2, Greater Noida            3.9   \n",
              "\n",
              "      Dining_Review_Count Delivery_Rating  Delivery_Rating_Count  \\\n",
              "0                    1885             4.4                   1844   \n",
              "1                    3748             3.9                     37   \n",
              "2                    1371     Known_For22                      0   \n",
              "3                    2636             4.4                   1238   \n",
              "4                    6487     Known_For22                      0   \n",
              "...                   ...             ...                    ...   \n",
              "1960                  183             4.1                    545   \n",
              "1961                  114     Known_For22                      1   \n",
              "1962                  316             3.9                   2977   \n",
              "1963                  120             3.8                    196   \n",
              "1964                  165             3.9                   5196   \n",
              "\n",
              "                                                Website  \\\n",
              "0      https://www.zomato.com/ncr/rustoms-ito-new-delhi   \n",
              "1     https://www.zomato.com/ncr/cafe-lota-pragati-m...   \n",
              "2     https://www.zomato.com/ncr/dum-pukht-itc-maury...   \n",
              "3     https://www.zomato.com/ncr/burma-burma-dlf-cyb...   \n",
              "4     https://www.zomato.com/ncr/the-big-chill-khan-...   \n",
              "...                                                 ...   \n",
              "1960  https://www.zomato.com/ncr/bablu-chic-inn-asho...   \n",
              "1961  https://www.zomato.com/ncr/kovilakam-dilshad-g...   \n",
              "1962  https://www.zomato.com/ncr/krips-restaurant-va...   \n",
              "1963  https://www.zomato.com/ncr/cafe-147-sainik-far...   \n",
              "1964  https://www.zomato.com/ncr/pizzasia-gaur-city-...   \n",
              "\n",
              "                                                Address     Phone_No  \\\n",
              "0     Delhi Parsi Anjuman, LNJP Colony, Bahadur Shah...   9.1991E+11   \n",
              "1     National Crafts Museum, Gate 2, Bhairon Marg, ...  9.17839E+11   \n",
              "2                   ITC Maurya, Chanakyapuri, New Delhi  9.11146E+11   \n",
              "3     Shop 6, Ground Floor, Building 8, Tower C, Cyb...  9.11244E+11   \n",
              "4                          68-A, Khan Market, New Delhi  9.11142E+11   \n",
              "...                                                 ...          ...   \n",
              "1960  Shop 9, Pocket B, DDA Market, Ashok Vihar Phas...      9.2E+11   \n",
              "1961  F-1, Lower Ground 2, Mrignaini Chowk, Dilshad ...  9.19654E+11   \n",
              "1962  59, Community Centre, Basant Lok Market, Vasan...  9.11141E+11   \n",
              "1963  Shop A1/7, Ground Floor, Main IGNOU Road, Neb ...  9.19812E+11   \n",
              "1964  Shop 14, Ground Floor, Bhawishya India Tower, ...  9.18861E+11   \n",
              "\n",
              "       Latitude  Longitude                                         Known_For2  \\\n",
              "0     28.638167  77.240472                                        Known_For22   \n",
              "1     28.613429  77.242471  Pondicherry Fish Curry, Coconut Rabdi, Sabudan...   \n",
              "2     28.598200  77.173661  Royal ambiance and Mughlai cuisine, also recei...   \n",
              "3     28.494464  77.088532  Coconut Milk Dessert, Honey Caviar, Kaffir Lim...   \n",
              "4     28.600350  77.227493  Irish Cream Tiramisu, Penne Vodka, Mississippi...   \n",
              "...         ...        ...                                                ...   \n",
              "1960  28.692473  77.178004  Great Recommendations, Tamper Proof Packaging,...   \n",
              "1961  28.684101  77.326725  Kerala Parotta, Roasted Chicken, Chicken Curry...   \n",
              "1962  28.557310  77.163943  Excellent Food, Good Ambience, Courteous Staff...   \n",
              "1963  28.510338  77.202056  Pool, Live Music, Cafe, Environment, Good Plac...   \n",
              "1964  28.618250  77.427417  Cordial Staff, Great Recommendations, Mouth Wa...   \n",
              "\n",
              "                                            Known_For22  \n",
              "0                                           Known_For22  \n",
              "1     Artistic Decor, The Service, Natural Ambience,...  \n",
              "2                                           Known_For22  \n",
              "3     Knowledgeable Staff, Authentic, Soothing Ambie...  \n",
              "4     Retro Ambience, Yummy Desserts, Big Portions, ...  \n",
              "...                                                 ...  \n",
              "1960                                        Known_For22  \n",
              "1961  Lip Smacking Food, Amazing Food, Owner, Good P...  \n",
              "1962                                        Known_For22  \n",
              "1963                                        Known_For22  \n",
              "1964                                        Known_For22  \n",
              "\n",
              "[1965 rows x 15 columns]"
            ],
            "text/html": [
              "\n",
              "  <div id=\"df-eb851b60-1152-463a-8c13-978a3e9c1ffe\" class=\"colab-df-container\">\n",
              "    <div>\n",
              "<style scoped>\n",
              "    .dataframe tbody tr th:only-of-type {\n",
              "        vertical-align: middle;\n",
              "    }\n",
              "\n",
              "    .dataframe tbody tr th {\n",
              "        vertical-align: top;\n",
              "    }\n",
              "\n",
              "    .dataframe thead th {\n",
              "        text-align: right;\n",
              "    }\n",
              "</style>\n",
              "<table border=\"1\" class=\"dataframe\">\n",
              "  <thead>\n",
              "    <tr style=\"text-align: right;\">\n",
              "      <th></th>\n",
              "      <th>Restaurant_Name</th>\n",
              "      <th>Category</th>\n",
              "      <th>Pricing_for_2</th>\n",
              "      <th>Locality</th>\n",
              "      <th>Dining_Rating</th>\n",
              "      <th>Dining_Review_Count</th>\n",
              "      <th>Delivery_Rating</th>\n",
              "      <th>Delivery_Rating_Count</th>\n",
              "      <th>Website</th>\n",
              "      <th>Address</th>\n",
              "      <th>Phone_No</th>\n",
              "      <th>Latitude</th>\n",
              "      <th>Longitude</th>\n",
              "      <th>Known_For2</th>\n",
              "      <th>Known_For22</th>\n",
              "    </tr>\n",
              "  </thead>\n",
              "  <tbody>\n",
              "    <tr>\n",
              "      <th>0</th>\n",
              "      <td>Rustom's</td>\n",
              "      <td>Parsi, Street Food, North Indian, Desserts, Be...</td>\n",
              "      <td>2100</td>\n",
              "      <td>ITO, New Delhi</td>\n",
              "      <td>4.9</td>\n",
              "      <td>1885</td>\n",
              "      <td>4.4</td>\n",
              "      <td>1844</td>\n",
              "      <td>https://www.zomato.com/ncr/rustoms-ito-new-delhi</td>\n",
              "      <td>Delhi Parsi Anjuman, LNJP Colony, Bahadur Shah...</td>\n",
              "      <td>9.1991E+11</td>\n",
              "      <td>28.638167</td>\n",
              "      <td>77.240472</td>\n",
              "      <td>Known_For22</td>\n",
              "      <td>Known_For22</td>\n",
              "    </tr>\n",
              "    <tr>\n",
              "      <th>1</th>\n",
              "      <td>Cafe Lota</td>\n",
              "      <td>Cafe, South Indian, North Indian, Beverages</td>\n",
              "      <td>1200</td>\n",
              "      <td>Pragati Maidan, New Delhi</td>\n",
              "      <td>4.9</td>\n",
              "      <td>3748</td>\n",
              "      <td>3.9</td>\n",
              "      <td>37</td>\n",
              "      <td>https://www.zomato.com/ncr/cafe-lota-pragati-m...</td>\n",
              "      <td>National Crafts Museum, Gate 2, Bhairon Marg, ...</td>\n",
              "      <td>9.17839E+11</td>\n",
              "      <td>28.613429</td>\n",
              "      <td>77.242471</td>\n",
              "      <td>Pondicherry Fish Curry, Coconut Rabdi, Sabudan...</td>\n",
              "      <td>Artistic Decor, The Service, Natural Ambience,...</td>\n",
              "    </tr>\n",
              "    <tr>\n",
              "      <th>2</th>\n",
              "      <td>Dum-Pukht - ITC Maurya</td>\n",
              "      <td>Mughlai, North Indian, Desserts</td>\n",
              "      <td>5000</td>\n",
              "      <td>ITC Maurya, Chanakyapuri, New Delhi</td>\n",
              "      <td>4.9</td>\n",
              "      <td>1371</td>\n",
              "      <td>Known_For22</td>\n",
              "      <td>0</td>\n",
              "      <td>https://www.zomato.com/ncr/dum-pukht-itc-maury...</td>\n",
              "      <td>ITC Maurya, Chanakyapuri, New Delhi</td>\n",
              "      <td>9.11146E+11</td>\n",
              "      <td>28.598200</td>\n",
              "      <td>77.173661</td>\n",
              "      <td>Royal ambiance and Mughlai cuisine, also recei...</td>\n",
              "      <td>Known_For22</td>\n",
              "    </tr>\n",
              "    <tr>\n",
              "      <th>3</th>\n",
              "      <td>Burma Burma</td>\n",
              "      <td>Asian, Burmese, Bubble Tea, Desserts, Salad</td>\n",
              "      <td>1600</td>\n",
              "      <td>Cyber Hub, DLF Cyber City, Gurgaon</td>\n",
              "      <td>4.9</td>\n",
              "      <td>2636</td>\n",
              "      <td>4.4</td>\n",
              "      <td>1238</td>\n",
              "      <td>https://www.zomato.com/ncr/burma-burma-dlf-cyb...</td>\n",
              "      <td>Shop 6, Ground Floor, Building 8, Tower C, Cyb...</td>\n",
              "      <td>9.11244E+11</td>\n",
              "      <td>28.494464</td>\n",
              "      <td>77.088532</td>\n",
              "      <td>Coconut Milk Dessert, Honey Caviar, Kaffir Lim...</td>\n",
              "      <td>Knowledgeable Staff, Authentic, Soothing Ambie...</td>\n",
              "    </tr>\n",
              "    <tr>\n",
              "      <th>4</th>\n",
              "      <td>The Big Chill</td>\n",
              "      <td>Continental, American, Italian</td>\n",
              "      <td>1500</td>\n",
              "      <td>Khan Market, New Delhi</td>\n",
              "      <td>4.9</td>\n",
              "      <td>6487</td>\n",
              "      <td>Known_For22</td>\n",
              "      <td>0</td>\n",
              "      <td>https://www.zomato.com/ncr/the-big-chill-khan-...</td>\n",
              "      <td>68-A, Khan Market, New Delhi</td>\n",
              "      <td>9.11142E+11</td>\n",
              "      <td>28.600350</td>\n",
              "      <td>77.227493</td>\n",
              "      <td>Irish Cream Tiramisu, Penne Vodka, Mississippi...</td>\n",
              "      <td>Retro Ambience, Yummy Desserts, Big Portions, ...</td>\n",
              "    </tr>\n",
              "    <tr>\n",
              "      <th>...</th>\n",
              "      <td>...</td>\n",
              "      <td>...</td>\n",
              "      <td>...</td>\n",
              "      <td>...</td>\n",
              "      <td>...</td>\n",
              "      <td>...</td>\n",
              "      <td>...</td>\n",
              "      <td>...</td>\n",
              "      <td>...</td>\n",
              "      <td>...</td>\n",
              "      <td>...</td>\n",
              "      <td>...</td>\n",
              "      <td>...</td>\n",
              "      <td>...</td>\n",
              "      <td>...</td>\n",
              "    </tr>\n",
              "    <tr>\n",
              "      <th>1960</th>\n",
              "      <td>Bablu Chic-Inn</td>\n",
              "      <td>Mughlai, North Indian, Chinese, Fast Food</td>\n",
              "      <td>500</td>\n",
              "      <td>Ashok Vihar Phase 3, New Delhi</td>\n",
              "      <td>3.9</td>\n",
              "      <td>183</td>\n",
              "      <td>4.1</td>\n",
              "      <td>545</td>\n",
              "      <td>https://www.zomato.com/ncr/bablu-chic-inn-asho...</td>\n",
              "      <td>Shop 9, Pocket B, DDA Market, Ashok Vihar Phas...</td>\n",
              "      <td>9.2E+11</td>\n",
              "      <td>28.692473</td>\n",
              "      <td>77.178004</td>\n",
              "      <td>Great Recommendations, Tamper Proof Packaging,...</td>\n",
              "      <td>Known_For22</td>\n",
              "    </tr>\n",
              "    <tr>\n",
              "      <th>1961</th>\n",
              "      <td>Kovilakam</td>\n",
              "      <td>South Indian</td>\n",
              "      <td>350</td>\n",
              "      <td>Dilshad Garden, New Delhi</td>\n",
              "      <td>3.9</td>\n",
              "      <td>114</td>\n",
              "      <td>Known_For22</td>\n",
              "      <td>1</td>\n",
              "      <td>https://www.zomato.com/ncr/kovilakam-dilshad-g...</td>\n",
              "      <td>F-1, Lower Ground 2, Mrignaini Chowk, Dilshad ...</td>\n",
              "      <td>9.19654E+11</td>\n",
              "      <td>28.684101</td>\n",
              "      <td>77.326725</td>\n",
              "      <td>Kerala Parotta, Roasted Chicken, Chicken Curry...</td>\n",
              "      <td>Lip Smacking Food, Amazing Food, Owner, Good P...</td>\n",
              "    </tr>\n",
              "    <tr>\n",
              "      <th>1962</th>\n",
              "      <td>Krips Restaurant</td>\n",
              "      <td>North Indian, Chinese, Mughlai</td>\n",
              "      <td>900</td>\n",
              "      <td>Basant Lok Market, Vasant Vihar, New Delhi</td>\n",
              "      <td>3.9</td>\n",
              "      <td>316</td>\n",
              "      <td>3.9</td>\n",
              "      <td>2977</td>\n",
              "      <td>https://www.zomato.com/ncr/krips-restaurant-va...</td>\n",
              "      <td>59, Community Centre, Basant Lok Market, Vasan...</td>\n",
              "      <td>9.11141E+11</td>\n",
              "      <td>28.557310</td>\n",
              "      <td>77.163943</td>\n",
              "      <td>Excellent Food, Good Ambience, Courteous Staff...</td>\n",
              "      <td>Known_For22</td>\n",
              "    </tr>\n",
              "    <tr>\n",
              "      <th>1963</th>\n",
              "      <td>Cafe 147</td>\n",
              "      <td>Cafe, North Indian, Chinese, Kashmiri, Rolls, ...</td>\n",
              "      <td>800</td>\n",
              "      <td>Sainik Farms, New Delhi</td>\n",
              "      <td>3.9</td>\n",
              "      <td>120</td>\n",
              "      <td>3.8</td>\n",
              "      <td>196</td>\n",
              "      <td>https://www.zomato.com/ncr/cafe-147-sainik-far...</td>\n",
              "      <td>Shop A1/7, Ground Floor, Main IGNOU Road, Neb ...</td>\n",
              "      <td>9.19812E+11</td>\n",
              "      <td>28.510338</td>\n",
              "      <td>77.202056</td>\n",
              "      <td>Pool, Live Music, Cafe, Environment, Good Plac...</td>\n",
              "      <td>Known_For22</td>\n",
              "    </tr>\n",
              "    <tr>\n",
              "      <th>1964</th>\n",
              "      <td>Pizzasia</td>\n",
              "      <td>Pizza, Fast Food, Beverages</td>\n",
              "      <td>500</td>\n",
              "      <td>Gaur City 2, Greater Noida</td>\n",
              "      <td>3.9</td>\n",
              "      <td>165</td>\n",
              "      <td>3.9</td>\n",
              "      <td>5196</td>\n",
              "      <td>https://www.zomato.com/ncr/pizzasia-gaur-city-...</td>\n",
              "      <td>Shop 14, Ground Floor, Bhawishya India Tower, ...</td>\n",
              "      <td>9.18861E+11</td>\n",
              "      <td>28.618250</td>\n",
              "      <td>77.427417</td>\n",
              "      <td>Cordial Staff, Great Recommendations, Mouth Wa...</td>\n",
              "      <td>Known_For22</td>\n",
              "    </tr>\n",
              "  </tbody>\n",
              "</table>\n",
              "<p>1965 rows × 15 columns</p>\n",
              "</div>\n",
              "    <div class=\"colab-df-buttons\">\n",
              "\n",
              "  <div class=\"colab-df-container\">\n",
              "    <button class=\"colab-df-convert\" onclick=\"convertToInteractive('df-eb851b60-1152-463a-8c13-978a3e9c1ffe')\"\n",
              "            title=\"Convert this dataframe to an interactive table.\"\n",
              "            style=\"display:none;\">\n",
              "\n",
              "  <svg xmlns=\"http://www.w3.org/2000/svg\" height=\"24px\" viewBox=\"0 -960 960 960\">\n",
              "    <path d=\"M120-120v-720h720v720H120Zm60-500h600v-160H180v160Zm220 220h160v-160H400v160Zm0 220h160v-160H400v160ZM180-400h160v-160H180v160Zm440 0h160v-160H620v160ZM180-180h160v-160H180v160Zm440 0h160v-160H620v160Z\"/>\n",
              "  </svg>\n",
              "    </button>\n",
              "\n",
              "  <style>\n",
              "    .colab-df-container {\n",
              "      display:flex;\n",
              "      gap: 12px;\n",
              "    }\n",
              "\n",
              "    .colab-df-convert {\n",
              "      background-color: #E8F0FE;\n",
              "      border: none;\n",
              "      border-radius: 50%;\n",
              "      cursor: pointer;\n",
              "      display: none;\n",
              "      fill: #1967D2;\n",
              "      height: 32px;\n",
              "      padding: 0 0 0 0;\n",
              "      width: 32px;\n",
              "    }\n",
              "\n",
              "    .colab-df-convert:hover {\n",
              "      background-color: #E2EBFA;\n",
              "      box-shadow: 0px 1px 2px rgba(60, 64, 67, 0.3), 0px 1px 3px 1px rgba(60, 64, 67, 0.15);\n",
              "      fill: #174EA6;\n",
              "    }\n",
              "\n",
              "    .colab-df-buttons div {\n",
              "      margin-bottom: 4px;\n",
              "    }\n",
              "\n",
              "    [theme=dark] .colab-df-convert {\n",
              "      background-color: #3B4455;\n",
              "      fill: #D2E3FC;\n",
              "    }\n",
              "\n",
              "    [theme=dark] .colab-df-convert:hover {\n",
              "      background-color: #434B5C;\n",
              "      box-shadow: 0px 1px 3px 1px rgba(0, 0, 0, 0.15);\n",
              "      filter: drop-shadow(0px 1px 2px rgba(0, 0, 0, 0.3));\n",
              "      fill: #FFFFFF;\n",
              "    }\n",
              "  </style>\n",
              "\n",
              "    <script>\n",
              "      const buttonEl =\n",
              "        document.querySelector('#df-eb851b60-1152-463a-8c13-978a3e9c1ffe button.colab-df-convert');\n",
              "      buttonEl.style.display =\n",
              "        google.colab.kernel.accessAllowed ? 'block' : 'none';\n",
              "\n",
              "      async function convertToInteractive(key) {\n",
              "        const element = document.querySelector('#df-eb851b60-1152-463a-8c13-978a3e9c1ffe');\n",
              "        const dataTable =\n",
              "          await google.colab.kernel.invokeFunction('convertToInteractive',\n",
              "                                                    [key], {});\n",
              "        if (!dataTable) return;\n",
              "\n",
              "        const docLinkHtml = 'Like what you see? Visit the ' +\n",
              "          '<a target=\"_blank\" href=https://colab.research.google.com/notebooks/data_table.ipynb>data table notebook</a>'\n",
              "          + ' to learn more about interactive tables.';\n",
              "        element.innerHTML = '';\n",
              "        dataTable['output_type'] = 'display_data';\n",
              "        await google.colab.output.renderOutput(dataTable, element);\n",
              "        const docLink = document.createElement('div');\n",
              "        docLink.innerHTML = docLinkHtml;\n",
              "        element.appendChild(docLink);\n",
              "      }\n",
              "    </script>\n",
              "  </div>\n",
              "\n",
              "\n",
              "<div id=\"df-32ab8648-d171-46b4-813b-dbcdd1175eaf\">\n",
              "  <button class=\"colab-df-quickchart\" onclick=\"quickchart('df-32ab8648-d171-46b4-813b-dbcdd1175eaf')\"\n",
              "            title=\"Suggest charts.\"\n",
              "            style=\"display:none;\">\n",
              "\n",
              "<svg xmlns=\"http://www.w3.org/2000/svg\" height=\"24px\"viewBox=\"0 0 24 24\"\n",
              "     width=\"24px\">\n",
              "    <g>\n",
              "        <path d=\"M19 3H5c-1.1 0-2 .9-2 2v14c0 1.1.9 2 2 2h14c1.1 0 2-.9 2-2V5c0-1.1-.9-2-2-2zM9 17H7v-7h2v7zm4 0h-2V7h2v10zm4 0h-2v-4h2v4z\"/>\n",
              "    </g>\n",
              "</svg>\n",
              "  </button>\n",
              "\n",
              "<style>\n",
              "  .colab-df-quickchart {\n",
              "      --bg-color: #E8F0FE;\n",
              "      --fill-color: #1967D2;\n",
              "      --hover-bg-color: #E2EBFA;\n",
              "      --hover-fill-color: #174EA6;\n",
              "      --disabled-fill-color: #AAA;\n",
              "      --disabled-bg-color: #DDD;\n",
              "  }\n",
              "\n",
              "  [theme=dark] .colab-df-quickchart {\n",
              "      --bg-color: #3B4455;\n",
              "      --fill-color: #D2E3FC;\n",
              "      --hover-bg-color: #434B5C;\n",
              "      --hover-fill-color: #FFFFFF;\n",
              "      --disabled-bg-color: #3B4455;\n",
              "      --disabled-fill-color: #666;\n",
              "  }\n",
              "\n",
              "  .colab-df-quickchart {\n",
              "    background-color: var(--bg-color);\n",
              "    border: none;\n",
              "    border-radius: 50%;\n",
              "    cursor: pointer;\n",
              "    display: none;\n",
              "    fill: var(--fill-color);\n",
              "    height: 32px;\n",
              "    padding: 0;\n",
              "    width: 32px;\n",
              "  }\n",
              "\n",
              "  .colab-df-quickchart:hover {\n",
              "    background-color: var(--hover-bg-color);\n",
              "    box-shadow: 0 1px 2px rgba(60, 64, 67, 0.3), 0 1px 3px 1px rgba(60, 64, 67, 0.15);\n",
              "    fill: var(--button-hover-fill-color);\n",
              "  }\n",
              "\n",
              "  .colab-df-quickchart-complete:disabled,\n",
              "  .colab-df-quickchart-complete:disabled:hover {\n",
              "    background-color: var(--disabled-bg-color);\n",
              "    fill: var(--disabled-fill-color);\n",
              "    box-shadow: none;\n",
              "  }\n",
              "\n",
              "  .colab-df-spinner {\n",
              "    border: 2px solid var(--fill-color);\n",
              "    border-color: transparent;\n",
              "    border-bottom-color: var(--fill-color);\n",
              "    animation:\n",
              "      spin 1s steps(1) infinite;\n",
              "  }\n",
              "\n",
              "  @keyframes spin {\n",
              "    0% {\n",
              "      border-color: transparent;\n",
              "      border-bottom-color: var(--fill-color);\n",
              "      border-left-color: var(--fill-color);\n",
              "    }\n",
              "    20% {\n",
              "      border-color: transparent;\n",
              "      border-left-color: var(--fill-color);\n",
              "      border-top-color: var(--fill-color);\n",
              "    }\n",
              "    30% {\n",
              "      border-color: transparent;\n",
              "      border-left-color: var(--fill-color);\n",
              "      border-top-color: var(--fill-color);\n",
              "      border-right-color: var(--fill-color);\n",
              "    }\n",
              "    40% {\n",
              "      border-color: transparent;\n",
              "      border-right-color: var(--fill-color);\n",
              "      border-top-color: var(--fill-color);\n",
              "    }\n",
              "    60% {\n",
              "      border-color: transparent;\n",
              "      border-right-color: var(--fill-color);\n",
              "    }\n",
              "    80% {\n",
              "      border-color: transparent;\n",
              "      border-right-color: var(--fill-color);\n",
              "      border-bottom-color: var(--fill-color);\n",
              "    }\n",
              "    90% {\n",
              "      border-color: transparent;\n",
              "      border-bottom-color: var(--fill-color);\n",
              "    }\n",
              "  }\n",
              "</style>\n",
              "\n",
              "  <script>\n",
              "    async function quickchart(key) {\n",
              "      const quickchartButtonEl =\n",
              "        document.querySelector('#' + key + ' button');\n",
              "      quickchartButtonEl.disabled = true;  // To prevent multiple clicks.\n",
              "      quickchartButtonEl.classList.add('colab-df-spinner');\n",
              "      try {\n",
              "        const charts = await google.colab.kernel.invokeFunction(\n",
              "            'suggestCharts', [key], {});\n",
              "      } catch (error) {\n",
              "        console.error('Error during call to suggestCharts:', error);\n",
              "      }\n",
              "      quickchartButtonEl.classList.remove('colab-df-spinner');\n",
              "      quickchartButtonEl.classList.add('colab-df-quickchart-complete');\n",
              "    }\n",
              "    (() => {\n",
              "      let quickchartButtonEl =\n",
              "        document.querySelector('#df-32ab8648-d171-46b4-813b-dbcdd1175eaf button');\n",
              "      quickchartButtonEl.style.display =\n",
              "        google.colab.kernel.accessAllowed ? 'block' : 'none';\n",
              "    })();\n",
              "  </script>\n",
              "</div>\n",
              "    </div>\n",
              "  </div>\n"
            ]
          },
          "metadata": {},
          "execution_count": 146
        }
      ]
    },
    {
      "cell_type": "code",
      "source": [
        "data.head()"
      ],
      "metadata": {
        "colab": {
          "base_uri": "https://localhost:8080/",
          "height": 625
        },
        "id": "c0e41KQVAZDo",
        "outputId": "0505b79a-cf64-433e-d3ea-bda4e7244bc0"
      },
      "execution_count": null,
      "outputs": [
        {
          "output_type": "execute_result",
          "data": {
            "text/plain": [
              "          Restaurant_Name                                           Category  \\\n",
              "0                Rustom's  Parsi, Street Food, North Indian, Desserts, Be...   \n",
              "1               Cafe Lota        Cafe, South Indian, North Indian, Beverages   \n",
              "2  Dum-Pukht - ITC Maurya                    Mughlai, North Indian, Desserts   \n",
              "3             Burma Burma        Asian, Burmese, Bubble Tea, Desserts, Salad   \n",
              "4           The Big Chill                     Continental, American, Italian   \n",
              "\n",
              "   Pricing_for_2                              Locality  Dining_Rating  \\\n",
              "0           2100                        ITO, New Delhi            4.9   \n",
              "1           1200             Pragati Maidan, New Delhi            4.9   \n",
              "2           5000   ITC Maurya, Chanakyapuri, New Delhi            4.9   \n",
              "3           1600    Cyber Hub, DLF Cyber City, Gurgaon            4.9   \n",
              "4           1500                Khan Market, New Delhi            4.9   \n",
              "\n",
              "   Dining_Review_Count  Delivery_Rating  Delivery_Rating_Count  \\\n",
              "0                 1885              4.4                   1844   \n",
              "1                 3748              3.9                     37   \n",
              "2                 1371              NaN                      0   \n",
              "3                 2636              4.4                   1238   \n",
              "4                 6487              NaN                      0   \n",
              "\n",
              "                                             Website  \\\n",
              "0   https://www.zomato.com/ncr/rustoms-ito-new-delhi   \n",
              "1  https://www.zomato.com/ncr/cafe-lota-pragati-m...   \n",
              "2  https://www.zomato.com/ncr/dum-pukht-itc-maury...   \n",
              "3  https://www.zomato.com/ncr/burma-burma-dlf-cyb...   \n",
              "4  https://www.zomato.com/ncr/the-big-chill-khan-...   \n",
              "\n",
              "                                             Address     Phone_No   Latitude  \\\n",
              "0  Delhi Parsi Anjuman, LNJP Colony, Bahadur Shah...   9.1991E+11  28.638167   \n",
              "1  National Crafts Museum, Gate 2, Bhairon Marg, ...  9.17839E+11  28.613429   \n",
              "2                ITC Maurya, Chanakyapuri, New Delhi  9.11146E+11  28.598200   \n",
              "3  Shop 6, Ground Floor, Building 8, Tower C, Cyb...  9.11244E+11  28.494464   \n",
              "4                       68-A, Khan Market, New Delhi  9.11142E+11  28.600350   \n",
              "\n",
              "   Longitude                                         Known_For2  \\\n",
              "0  77.240472                                                NaN   \n",
              "1  77.242471  Pondicherry Fish Curry, Coconut Rabdi, Sabudan...   \n",
              "2  77.173661  Royal ambiance and Mughlai cuisine, also recei...   \n",
              "3  77.088532  Coconut Milk Dessert, Honey Caviar, Kaffir Lim...   \n",
              "4  77.227493  Irish Cream Tiramisu, Penne Vodka, Mississippi...   \n",
              "\n",
              "                                         Known_For22  \n",
              "0                                                NaN  \n",
              "1  Artistic Decor, The Service, Natural Ambience,...  \n",
              "2                                                NaN  \n",
              "3  Knowledgeable Staff, Authentic, Soothing Ambie...  \n",
              "4  Retro Ambience, Yummy Desserts, Big Portions, ...  "
            ],
            "text/html": [
              "\n",
              "  <div id=\"df-10b3a259-5ccc-40e2-8e26-036ca5cd1155\" class=\"colab-df-container\">\n",
              "    <div>\n",
              "<style scoped>\n",
              "    .dataframe tbody tr th:only-of-type {\n",
              "        vertical-align: middle;\n",
              "    }\n",
              "\n",
              "    .dataframe tbody tr th {\n",
              "        vertical-align: top;\n",
              "    }\n",
              "\n",
              "    .dataframe thead th {\n",
              "        text-align: right;\n",
              "    }\n",
              "</style>\n",
              "<table border=\"1\" class=\"dataframe\">\n",
              "  <thead>\n",
              "    <tr style=\"text-align: right;\">\n",
              "      <th></th>\n",
              "      <th>Restaurant_Name</th>\n",
              "      <th>Category</th>\n",
              "      <th>Pricing_for_2</th>\n",
              "      <th>Locality</th>\n",
              "      <th>Dining_Rating</th>\n",
              "      <th>Dining_Review_Count</th>\n",
              "      <th>Delivery_Rating</th>\n",
              "      <th>Delivery_Rating_Count</th>\n",
              "      <th>Website</th>\n",
              "      <th>Address</th>\n",
              "      <th>Phone_No</th>\n",
              "      <th>Latitude</th>\n",
              "      <th>Longitude</th>\n",
              "      <th>Known_For2</th>\n",
              "      <th>Known_For22</th>\n",
              "    </tr>\n",
              "  </thead>\n",
              "  <tbody>\n",
              "    <tr>\n",
              "      <th>0</th>\n",
              "      <td>Rustom's</td>\n",
              "      <td>Parsi, Street Food, North Indian, Desserts, Be...</td>\n",
              "      <td>2100</td>\n",
              "      <td>ITO, New Delhi</td>\n",
              "      <td>4.9</td>\n",
              "      <td>1885</td>\n",
              "      <td>4.4</td>\n",
              "      <td>1844</td>\n",
              "      <td>https://www.zomato.com/ncr/rustoms-ito-new-delhi</td>\n",
              "      <td>Delhi Parsi Anjuman, LNJP Colony, Bahadur Shah...</td>\n",
              "      <td>9.1991E+11</td>\n",
              "      <td>28.638167</td>\n",
              "      <td>77.240472</td>\n",
              "      <td>NaN</td>\n",
              "      <td>NaN</td>\n",
              "    </tr>\n",
              "    <tr>\n",
              "      <th>1</th>\n",
              "      <td>Cafe Lota</td>\n",
              "      <td>Cafe, South Indian, North Indian, Beverages</td>\n",
              "      <td>1200</td>\n",
              "      <td>Pragati Maidan, New Delhi</td>\n",
              "      <td>4.9</td>\n",
              "      <td>3748</td>\n",
              "      <td>3.9</td>\n",
              "      <td>37</td>\n",
              "      <td>https://www.zomato.com/ncr/cafe-lota-pragati-m...</td>\n",
              "      <td>National Crafts Museum, Gate 2, Bhairon Marg, ...</td>\n",
              "      <td>9.17839E+11</td>\n",
              "      <td>28.613429</td>\n",
              "      <td>77.242471</td>\n",
              "      <td>Pondicherry Fish Curry, Coconut Rabdi, Sabudan...</td>\n",
              "      <td>Artistic Decor, The Service, Natural Ambience,...</td>\n",
              "    </tr>\n",
              "    <tr>\n",
              "      <th>2</th>\n",
              "      <td>Dum-Pukht - ITC Maurya</td>\n",
              "      <td>Mughlai, North Indian, Desserts</td>\n",
              "      <td>5000</td>\n",
              "      <td>ITC Maurya, Chanakyapuri, New Delhi</td>\n",
              "      <td>4.9</td>\n",
              "      <td>1371</td>\n",
              "      <td>NaN</td>\n",
              "      <td>0</td>\n",
              "      <td>https://www.zomato.com/ncr/dum-pukht-itc-maury...</td>\n",
              "      <td>ITC Maurya, Chanakyapuri, New Delhi</td>\n",
              "      <td>9.11146E+11</td>\n",
              "      <td>28.598200</td>\n",
              "      <td>77.173661</td>\n",
              "      <td>Royal ambiance and Mughlai cuisine, also recei...</td>\n",
              "      <td>NaN</td>\n",
              "    </tr>\n",
              "    <tr>\n",
              "      <th>3</th>\n",
              "      <td>Burma Burma</td>\n",
              "      <td>Asian, Burmese, Bubble Tea, Desserts, Salad</td>\n",
              "      <td>1600</td>\n",
              "      <td>Cyber Hub, DLF Cyber City, Gurgaon</td>\n",
              "      <td>4.9</td>\n",
              "      <td>2636</td>\n",
              "      <td>4.4</td>\n",
              "      <td>1238</td>\n",
              "      <td>https://www.zomato.com/ncr/burma-burma-dlf-cyb...</td>\n",
              "      <td>Shop 6, Ground Floor, Building 8, Tower C, Cyb...</td>\n",
              "      <td>9.11244E+11</td>\n",
              "      <td>28.494464</td>\n",
              "      <td>77.088532</td>\n",
              "      <td>Coconut Milk Dessert, Honey Caviar, Kaffir Lim...</td>\n",
              "      <td>Knowledgeable Staff, Authentic, Soothing Ambie...</td>\n",
              "    </tr>\n",
              "    <tr>\n",
              "      <th>4</th>\n",
              "      <td>The Big Chill</td>\n",
              "      <td>Continental, American, Italian</td>\n",
              "      <td>1500</td>\n",
              "      <td>Khan Market, New Delhi</td>\n",
              "      <td>4.9</td>\n",
              "      <td>6487</td>\n",
              "      <td>NaN</td>\n",
              "      <td>0</td>\n",
              "      <td>https://www.zomato.com/ncr/the-big-chill-khan-...</td>\n",
              "      <td>68-A, Khan Market, New Delhi</td>\n",
              "      <td>9.11142E+11</td>\n",
              "      <td>28.600350</td>\n",
              "      <td>77.227493</td>\n",
              "      <td>Irish Cream Tiramisu, Penne Vodka, Mississippi...</td>\n",
              "      <td>Retro Ambience, Yummy Desserts, Big Portions, ...</td>\n",
              "    </tr>\n",
              "  </tbody>\n",
              "</table>\n",
              "</div>\n",
              "    <div class=\"colab-df-buttons\">\n",
              "\n",
              "  <div class=\"colab-df-container\">\n",
              "    <button class=\"colab-df-convert\" onclick=\"convertToInteractive('df-10b3a259-5ccc-40e2-8e26-036ca5cd1155')\"\n",
              "            title=\"Convert this dataframe to an interactive table.\"\n",
              "            style=\"display:none;\">\n",
              "\n",
              "  <svg xmlns=\"http://www.w3.org/2000/svg\" height=\"24px\" viewBox=\"0 -960 960 960\">\n",
              "    <path d=\"M120-120v-720h720v720H120Zm60-500h600v-160H180v160Zm220 220h160v-160H400v160Zm0 220h160v-160H400v160ZM180-400h160v-160H180v160Zm440 0h160v-160H620v160ZM180-180h160v-160H180v160Zm440 0h160v-160H620v160Z\"/>\n",
              "  </svg>\n",
              "    </button>\n",
              "\n",
              "  <style>\n",
              "    .colab-df-container {\n",
              "      display:flex;\n",
              "      gap: 12px;\n",
              "    }\n",
              "\n",
              "    .colab-df-convert {\n",
              "      background-color: #E8F0FE;\n",
              "      border: none;\n",
              "      border-radius: 50%;\n",
              "      cursor: pointer;\n",
              "      display: none;\n",
              "      fill: #1967D2;\n",
              "      height: 32px;\n",
              "      padding: 0 0 0 0;\n",
              "      width: 32px;\n",
              "    }\n",
              "\n",
              "    .colab-df-convert:hover {\n",
              "      background-color: #E2EBFA;\n",
              "      box-shadow: 0px 1px 2px rgba(60, 64, 67, 0.3), 0px 1px 3px 1px rgba(60, 64, 67, 0.15);\n",
              "      fill: #174EA6;\n",
              "    }\n",
              "\n",
              "    .colab-df-buttons div {\n",
              "      margin-bottom: 4px;\n",
              "    }\n",
              "\n",
              "    [theme=dark] .colab-df-convert {\n",
              "      background-color: #3B4455;\n",
              "      fill: #D2E3FC;\n",
              "    }\n",
              "\n",
              "    [theme=dark] .colab-df-convert:hover {\n",
              "      background-color: #434B5C;\n",
              "      box-shadow: 0px 1px 3px 1px rgba(0, 0, 0, 0.15);\n",
              "      filter: drop-shadow(0px 1px 2px rgba(0, 0, 0, 0.3));\n",
              "      fill: #FFFFFF;\n",
              "    }\n",
              "  </style>\n",
              "\n",
              "    <script>\n",
              "      const buttonEl =\n",
              "        document.querySelector('#df-10b3a259-5ccc-40e2-8e26-036ca5cd1155 button.colab-df-convert');\n",
              "      buttonEl.style.display =\n",
              "        google.colab.kernel.accessAllowed ? 'block' : 'none';\n",
              "\n",
              "      async function convertToInteractive(key) {\n",
              "        const element = document.querySelector('#df-10b3a259-5ccc-40e2-8e26-036ca5cd1155');\n",
              "        const dataTable =\n",
              "          await google.colab.kernel.invokeFunction('convertToInteractive',\n",
              "                                                    [key], {});\n",
              "        if (!dataTable) return;\n",
              "\n",
              "        const docLinkHtml = 'Like what you see? Visit the ' +\n",
              "          '<a target=\"_blank\" href=https://colab.research.google.com/notebooks/data_table.ipynb>data table notebook</a>'\n",
              "          + ' to learn more about interactive tables.';\n",
              "        element.innerHTML = '';\n",
              "        dataTable['output_type'] = 'display_data';\n",
              "        await google.colab.output.renderOutput(dataTable, element);\n",
              "        const docLink = document.createElement('div');\n",
              "        docLink.innerHTML = docLinkHtml;\n",
              "        element.appendChild(docLink);\n",
              "      }\n",
              "    </script>\n",
              "  </div>\n",
              "\n",
              "\n",
              "<div id=\"df-4e4172bf-888a-4338-8bfb-0b33caec2535\">\n",
              "  <button class=\"colab-df-quickchart\" onclick=\"quickchart('df-4e4172bf-888a-4338-8bfb-0b33caec2535')\"\n",
              "            title=\"Suggest charts.\"\n",
              "            style=\"display:none;\">\n",
              "\n",
              "<svg xmlns=\"http://www.w3.org/2000/svg\" height=\"24px\"viewBox=\"0 0 24 24\"\n",
              "     width=\"24px\">\n",
              "    <g>\n",
              "        <path d=\"M19 3H5c-1.1 0-2 .9-2 2v14c0 1.1.9 2 2 2h14c1.1 0 2-.9 2-2V5c0-1.1-.9-2-2-2zM9 17H7v-7h2v7zm4 0h-2V7h2v10zm4 0h-2v-4h2v4z\"/>\n",
              "    </g>\n",
              "</svg>\n",
              "  </button>\n",
              "\n",
              "<style>\n",
              "  .colab-df-quickchart {\n",
              "      --bg-color: #E8F0FE;\n",
              "      --fill-color: #1967D2;\n",
              "      --hover-bg-color: #E2EBFA;\n",
              "      --hover-fill-color: #174EA6;\n",
              "      --disabled-fill-color: #AAA;\n",
              "      --disabled-bg-color: #DDD;\n",
              "  }\n",
              "\n",
              "  [theme=dark] .colab-df-quickchart {\n",
              "      --bg-color: #3B4455;\n",
              "      --fill-color: #D2E3FC;\n",
              "      --hover-bg-color: #434B5C;\n",
              "      --hover-fill-color: #FFFFFF;\n",
              "      --disabled-bg-color: #3B4455;\n",
              "      --disabled-fill-color: #666;\n",
              "  }\n",
              "\n",
              "  .colab-df-quickchart {\n",
              "    background-color: var(--bg-color);\n",
              "    border: none;\n",
              "    border-radius: 50%;\n",
              "    cursor: pointer;\n",
              "    display: none;\n",
              "    fill: var(--fill-color);\n",
              "    height: 32px;\n",
              "    padding: 0;\n",
              "    width: 32px;\n",
              "  }\n",
              "\n",
              "  .colab-df-quickchart:hover {\n",
              "    background-color: var(--hover-bg-color);\n",
              "    box-shadow: 0 1px 2px rgba(60, 64, 67, 0.3), 0 1px 3px 1px rgba(60, 64, 67, 0.15);\n",
              "    fill: var(--button-hover-fill-color);\n",
              "  }\n",
              "\n",
              "  .colab-df-quickchart-complete:disabled,\n",
              "  .colab-df-quickchart-complete:disabled:hover {\n",
              "    background-color: var(--disabled-bg-color);\n",
              "    fill: var(--disabled-fill-color);\n",
              "    box-shadow: none;\n",
              "  }\n",
              "\n",
              "  .colab-df-spinner {\n",
              "    border: 2px solid var(--fill-color);\n",
              "    border-color: transparent;\n",
              "    border-bottom-color: var(--fill-color);\n",
              "    animation:\n",
              "      spin 1s steps(1) infinite;\n",
              "  }\n",
              "\n",
              "  @keyframes spin {\n",
              "    0% {\n",
              "      border-color: transparent;\n",
              "      border-bottom-color: var(--fill-color);\n",
              "      border-left-color: var(--fill-color);\n",
              "    }\n",
              "    20% {\n",
              "      border-color: transparent;\n",
              "      border-left-color: var(--fill-color);\n",
              "      border-top-color: var(--fill-color);\n",
              "    }\n",
              "    30% {\n",
              "      border-color: transparent;\n",
              "      border-left-color: var(--fill-color);\n",
              "      border-top-color: var(--fill-color);\n",
              "      border-right-color: var(--fill-color);\n",
              "    }\n",
              "    40% {\n",
              "      border-color: transparent;\n",
              "      border-right-color: var(--fill-color);\n",
              "      border-top-color: var(--fill-color);\n",
              "    }\n",
              "    60% {\n",
              "      border-color: transparent;\n",
              "      border-right-color: var(--fill-color);\n",
              "    }\n",
              "    80% {\n",
              "      border-color: transparent;\n",
              "      border-right-color: var(--fill-color);\n",
              "      border-bottom-color: var(--fill-color);\n",
              "    }\n",
              "    90% {\n",
              "      border-color: transparent;\n",
              "      border-bottom-color: var(--fill-color);\n",
              "    }\n",
              "  }\n",
              "</style>\n",
              "\n",
              "  <script>\n",
              "    async function quickchart(key) {\n",
              "      const quickchartButtonEl =\n",
              "        document.querySelector('#' + key + ' button');\n",
              "      quickchartButtonEl.disabled = true;  // To prevent multiple clicks.\n",
              "      quickchartButtonEl.classList.add('colab-df-spinner');\n",
              "      try {\n",
              "        const charts = await google.colab.kernel.invokeFunction(\n",
              "            'suggestCharts', [key], {});\n",
              "      } catch (error) {\n",
              "        console.error('Error during call to suggestCharts:', error);\n",
              "      }\n",
              "      quickchartButtonEl.classList.remove('colab-df-spinner');\n",
              "      quickchartButtonEl.classList.add('colab-df-quickchart-complete');\n",
              "    }\n",
              "    (() => {\n",
              "      let quickchartButtonEl =\n",
              "        document.querySelector('#df-4e4172bf-888a-4338-8bfb-0b33caec2535 button');\n",
              "      quickchartButtonEl.style.display =\n",
              "        google.colab.kernel.accessAllowed ? 'block' : 'none';\n",
              "    })();\n",
              "  </script>\n",
              "</div>\n",
              "    </div>\n",
              "  </div>\n"
            ]
          },
          "metadata": {},
          "execution_count": 9
        }
      ]
    },
    {
      "cell_type": "code",
      "source": [
        "data.columns"
      ],
      "metadata": {
        "colab": {
          "base_uri": "https://localhost:8080/"
        },
        "id": "c5iK29CyAZAP",
        "outputId": "f4fa8174-d2cc-49b4-fb3b-b48023c02b6b"
      },
      "execution_count": 5,
      "outputs": [
        {
          "output_type": "execute_result",
          "data": {
            "text/plain": [
              "Index(['Restaurant_Name', 'Category', 'Pricing_for_2', 'Locality',\n",
              "       'Dining_Rating', 'Dining_Review_Count', 'Delivery_Rating',\n",
              "       'Delivery_Rating_Count', 'Website', 'Address', 'Phone_No', 'Latitude',\n",
              "       'Longitude', 'Known_For2', 'Known_For22'],\n",
              "      dtype='object')"
            ]
          },
          "metadata": {},
          "execution_count": 5
        }
      ]
    },
    {
      "cell_type": "code",
      "source": [
        "data.isnull().sum()"
      ],
      "metadata": {
        "colab": {
          "base_uri": "https://localhost:8080/"
        },
        "id": "trMZ55rBAY19",
        "outputId": "6bd58457-91c5-4bc6-8181-5770027ee07d"
      },
      "execution_count": 6,
      "outputs": [
        {
          "output_type": "execute_result",
          "data": {
            "text/plain": [
              "Restaurant_Name            0\n",
              "Category                   0\n",
              "Pricing_for_2              0\n",
              "Locality                   0\n",
              "Dining_Rating              0\n",
              "Dining_Review_Count        0\n",
              "Delivery_Rating          402\n",
              "Delivery_Rating_Count      0\n",
              "Website                    0\n",
              "Address                    0\n",
              "Phone_No                   0\n",
              "Latitude                   0\n",
              "Longitude                  0\n",
              "Known_For2               405\n",
              "Known_For22              841\n",
              "dtype: int64"
            ]
          },
          "metadata": {},
          "execution_count": 6
        }
      ]
    },
    {
      "cell_type": "code",
      "source": [
        "data['Known_For22'].value_counts()"
      ],
      "metadata": {
        "colab": {
          "base_uri": "https://localhost:8080/"
        },
        "id": "LQQXr-ZtB7ar",
        "outputId": "a42c06d8-f1f6-45c8-e22b-e69bcb68cea9"
      },
      "execution_count": 7,
      "outputs": [
        {
          "output_type": "execute_result",
          "data": {
            "text/plain": [
              "Pretty Decor, Perfect Presentation, Tamper Proof Packaging, Worth the Money, Packing, Food Quality                     2\n",
              "Artistic Decor, The Service, Natural Ambience, Fusion Menu, Serene Ambience, Fusion Food                               1\n",
              "Excellent Place, Great Value, Nice Service, Recommended Place, Good Quality Food, Amazing Taste                        1\n",
              "Amazing Food and Experience, Delivery Instructions, Genuine Price, Faster Delivery, Worth the Price, Food Packaging    1\n",
              "Budget Food, Good for Large Groups, Packed on Weekends, Portions, Good Taste, Main Course                              1\n",
              "                                                                                                                      ..\n",
              "Classy Decor, Wonderful Service, Chinese, Server, Excellent Food, Hospitality                                          1\n",
              "Pocket Friendly, Nice Crowd, Great Ambiance, Polite Staff, Prompt Service, Worth the Money                             1\n",
              "Happy Hour Menu, Balcony Area, Affordable Food, Outdoor Sitting, Good Vibe, Helpful Staff                              1\n",
              "Surrounding, Calm, Beautiful Place, Cafe, Owner, Decor                                                                 1\n",
              "Lip Smacking Food, Amazing Food, Owner, Good Place, Good Food, Quality                                                 1\n",
              "Name: Known_For22, Length: 1123, dtype: int64"
            ]
          },
          "metadata": {},
          "execution_count": 7
        }
      ]
    },
    {
      "cell_type": "code",
      "source": [
        "data=data.fillna('Known_For22')"
      ],
      "metadata": {
        "id": "vC7OuEGoBAjk"
      },
      "execution_count": 8,
      "outputs": []
    },
    {
      "cell_type": "code",
      "source": [
        "data.isnull().sum()"
      ],
      "metadata": {
        "colab": {
          "base_uri": "https://localhost:8080/"
        },
        "id": "ZUha_N6pBAgK",
        "outputId": "3631dfb0-3e9d-4a1d-ca4b-d3aec03206c4"
      },
      "execution_count": 9,
      "outputs": [
        {
          "output_type": "execute_result",
          "data": {
            "text/plain": [
              "Restaurant_Name          0\n",
              "Category                 0\n",
              "Pricing_for_2            0\n",
              "Locality                 0\n",
              "Dining_Rating            0\n",
              "Dining_Review_Count      0\n",
              "Delivery_Rating          0\n",
              "Delivery_Rating_Count    0\n",
              "Website                  0\n",
              "Address                  0\n",
              "Phone_No                 0\n",
              "Latitude                 0\n",
              "Longitude                0\n",
              "Known_For2               0\n",
              "Known_For22              0\n",
              "dtype: int64"
            ]
          },
          "metadata": {},
          "execution_count": 9
        }
      ]
    },
    {
      "cell_type": "markdown",
      "source": [
        "Q2.Which restaurant is the best one having ratings more than 4.5 for delivery"
      ],
      "metadata": {
        "id": "iFe6YX9bCJNb"
      }
    },
    {
      "cell_type": "code",
      "source": [
        "x=data['Delivery_Rating'].value_counts()\n",
        "print (x)\n"
      ],
      "metadata": {
        "colab": {
          "base_uri": "https://localhost:8080/"
        },
        "id": "51PcWQtxBAaZ",
        "outputId": "0a39e924-99fb-4090-f9e6-0c85697acbaa"
      },
      "execution_count": 135,
      "outputs": [
        {
          "output_type": "stream",
          "name": "stdout",
          "text": [
            "Known_For22    402\n",
            "3.9            304\n",
            "4.0            264\n",
            "4.1            253\n",
            "4.2            177\n",
            "3.8            140\n",
            "4.3            135\n",
            "3.7             99\n",
            "3.6             60\n",
            "3.5             50\n",
            "4.4             26\n",
            "3.4             20\n",
            "3.3             11\n",
            "4.5              8\n",
            "3.2              6\n",
            "3.1              5\n",
            "3.0              3\n",
            "2.8              1\n",
            "2.9              1\n",
            "Name: Delivery_Rating, dtype: int64\n"
          ]
        }
      ]
    },
    {
      "cell_type": "code",
      "source": [
        "y=data['Restaurant_Name'].value_counts()\n",
        "print (y)"
      ],
      "metadata": {
        "colab": {
          "base_uri": "https://localhost:8080/"
        },
        "id": "k_75PPQUBAXi",
        "outputId": "ed277b84-7cac-4369-e1c2-6f40509618ca"
      },
      "execution_count": 20,
      "outputs": [
        {
          "output_type": "stream",
          "name": "stdout",
          "text": [
            "Punjabi Zaika                    4\n",
            "Champaran Meat House             3\n",
            "Kathi Junction                   3\n",
            "Open Tap                         3\n",
            "Changezi Chicken                 2\n",
            "                                ..\n",
            "Oasis - Vivanta by Taj           1\n",
            "Goosebumps                       1\n",
            "Pepper Pot - The Terrace Café    1\n",
            "Cake Castle                      1\n",
            "Pizzasia                         1\n",
            "Name: Restaurant_Name, Length: 1943, dtype: int64\n"
          ]
        }
      ]
    },
    {
      "cell_type": "code",
      "source": [
        "import matplotlib.pyplot as plt\n"
      ],
      "metadata": {
        "id": "G2KzyhTQEUhI"
      },
      "execution_count": 39,
      "outputs": []
    },
    {
      "cell_type": "code",
      "source": [
        "plt.hist(x,bins=200,width=10)\n",
        "plt.xlabel(\"Delivery_Rating\")\n",
        "plt.show()"
      ],
      "metadata": {
        "colab": {
          "base_uri": "https://localhost:8080/",
          "height": 450
        },
        "id": "YspSpPUwDx4h",
        "outputId": "4ec71a32-7413-447b-c28a-71dbff4feac3"
      },
      "execution_count": 131,
      "outputs": [
        {
          "output_type": "display_data",
          "data": {
            "text/plain": [
              "<Figure size 640x480 with 1 Axes>"
            ],
            "image/png": "[encoded data removed]"
          },
          "metadata": {}
        }
      ]
    },
    {
      "cell_type": "code",
      "source": [
        "plt.hist(y,bins=200,width=0.5)\n",
        "plt.ylabel(\"Restaurant_Name\")\n",
        "plt.show()"
      ],
      "metadata": {
        "colab": {
          "base_uri": "https://localhost:8080/",
          "height": 431
        },
        "id": "kJX0vSMPZrKc",
        "outputId": "a3c43ded-dc72-4c77-9b9a-cea1d668fc99"
      },
      "execution_count": 133,
      "outputs": [
        {
          "output_type": "display_data",
          "data": {
            "text/plain": [
              "<Figure size 640x480 with 1 Axes>"
            ],
            "image/png": "[encoded data removed]"
          },
          "metadata": {}
        }
      ]
    },
    {
      "cell_type": "markdown",
      "source": [
        "Q3.What type of food is most preffered by the customers?"
      ],
      "metadata": {
        "id": "0x0_CA_dBAAL"
      }
    },
    {
      "cell_type": "code",
      "source": [
        "x1=data['Category'].value_counts()\n",
        "print(x1)"
      ],
      "metadata": {
        "colab": {
          "base_uri": "https://localhost:8080/"
        },
        "id": "r57NLUMdAcLT",
        "outputId": "f102b79a-6b84-4707-a2f0-051f013b109a"
      },
      "execution_count": 56,
      "outputs": [
        {
          "output_type": "stream",
          "name": "stdout",
          "text": [
            "North Indian                                                      88\n",
            "North Indian, Chinese                                             39\n",
            "North Indian, Mughlai                                             37\n",
            "Pizza, Fast Food                                                  19\n",
            "North Indian, Chinese, Mughlai                                    17\n",
            "                                                                  ..\n",
            "North Indian, Kebab, Mughlai, Biryani, Beverages                   1\n",
            "North Indian, Continental, Italian, Chinese                        1\n",
            "North Indian, Continental, Asian, Chinese                          1\n",
            "Afghan, Iranian, Awadhi, Beverages                                 1\n",
            "Cafe, North Indian, Chinese, Kashmiri, Rolls, Pizza, Beverages     1\n",
            "Name: Category, Length: 1355, dtype: int64\n"
          ]
        }
      ]
    },
    {
      "cell_type": "code",
      "source": [
        "plt.hist(x1,bins=200,width=0.5)\n",
        "plt.show()"
      ],
      "metadata": {
        "colab": {
          "base_uri": "https://localhost:8080/",
          "height": 430
        },
        "id": "RZwOZedqHU2u",
        "outputId": "584b7f6f-012c-41e0-e19c-c4e248960d21"
      },
      "execution_count": 59,
      "outputs": [
        {
          "output_type": "display_data",
          "data": {
            "text/plain": [
              "<Figure size 640x480 with 1 Axes>"
            ],
            "image/png": "[encoded data removed]"
          },
          "metadata": {}
        }
      ]
    },
    {
      "cell_type": "markdown",
      "source": [
        "Most preferred food is North Indian."
      ],
      "metadata": {
        "id": "DPvEHikNIK--"
      }
    },
    {
      "cell_type": "markdown",
      "source": [
        "Q4.How many people prefer delivery rather than dining ?"
      ],
      "metadata": {
        "id": "R5dMmlwmITV_"
      }
    },
    {
      "cell_type": "code",
      "source": [
        "data['Delivery_Rating']\n"
      ],
      "metadata": {
        "colab": {
          "base_uri": "https://localhost:8080/"
        },
        "id": "q-vM81SRIuUU",
        "outputId": "2415eb94-c6e6-4cfd-a450-0313ecb437dc"
      },
      "execution_count": 67,
      "outputs": [
        {
          "output_type": "execute_result",
          "data": {
            "text/plain": [
              "0               4.4\n",
              "1               3.9\n",
              "2       Known_For22\n",
              "3               4.4\n",
              "4       Known_For22\n",
              "           ...     \n",
              "1960            4.1\n",
              "1961    Known_For22\n",
              "1962            3.9\n",
              "1963            3.8\n",
              "1964            3.9\n",
              "Name: Delivery_Rating, Length: 1965, dtype: object"
            ]
          },
          "metadata": {},
          "execution_count": 67
        }
      ]
    },
    {
      "cell_type": "code",
      "source": [
        "data['Dining_Rating']\n"
      ],
      "metadata": {
        "colab": {
          "base_uri": "https://localhost:8080/"
        },
        "id": "AepVHZjFJfV_",
        "outputId": "cb821677-6681-488f-a0bb-4808667bd015"
      },
      "execution_count": 68,
      "outputs": [
        {
          "output_type": "execute_result",
          "data": {
            "text/plain": [
              "0       4.9\n",
              "1       4.9\n",
              "2       4.9\n",
              "3       4.9\n",
              "4       4.9\n",
              "       ... \n",
              "1960    3.9\n",
              "1961    3.9\n",
              "1962    3.9\n",
              "1963    3.9\n",
              "1964    3.9\n",
              "Name: Dining_Rating, Length: 1965, dtype: float64"
            ]
          },
          "metadata": {},
          "execution_count": 68
        }
      ]
    },
    {
      "cell_type": "code",
      "source": [
        "import seaborn as sns\n",
        "plt.figure(figsize=(15,10))\n",
        "sns.countplot(x=data['Delivery_Rating'])\n",
        "\n"
      ],
      "metadata": {
        "colab": {
          "base_uri": "https://localhost:8080/",
          "height": 612
        },
        "id": "dzY8KnrvIP9F",
        "outputId": "7f14d114-6489-46f2-e409-ef9b7b62a254"
      },
      "execution_count": 71,
      "outputs": [
        {
          "output_type": "execute_result",
          "data": {
            "text/plain": [
              "<Axes: xlabel='Delivery_Rating', ylabel='count'>"
            ]
          },
          "metadata": {},
          "execution_count": 71
        },
        {
          "output_type": "display_data",
          "data": {
            "text/plain": [
              "<Figure size 1500x1000 with 1 Axes>"
            ],
            "image/png": "[encoded data removed]"
          },
          "metadata": {}
        }
      ]
    },
    {
      "cell_type": "code",
      "source": [
        "sns.countplot(x=data['Dining_Rating'])"
      ],
      "metadata": {
        "colab": {
          "base_uri": "https://localhost:8080/",
          "height": 467
        },
        "id": "Ocv12nHsMpUH",
        "outputId": "6d9b666b-4d9a-49ff-9591-a1b094f1edea"
      },
      "execution_count": 72,
      "outputs": [
        {
          "output_type": "execute_result",
          "data": {
            "text/plain": [
              "<Axes: xlabel='Dining_Rating', ylabel='count'>"
            ]
          },
          "metadata": {},
          "execution_count": 72
        },
        {
          "output_type": "display_data",
          "data": {
            "text/plain": [
              "<Figure size 640x480 with 1 Axes>"
            ],
            "image/png": "[encoded data removed]"
          },
          "metadata": {}
        }
      ]
    },
    {
      "cell_type": "markdown",
      "source": [
        "Q5.Which restaurant is the best one having ratings more than 4.5 for dining?"
      ],
      "metadata": {
        "id": "0aO2nDxWM8xu"
      }
    },
    {
      "cell_type": "code",
      "source": [
        "data.columns"
      ],
      "metadata": {
        "colab": {
          "base_uri": "https://localhost:8080/"
        },
        "id": "VgE2334-NKY2",
        "outputId": "75f8955c-496e-44bd-a82e-6ac919760966"
      },
      "execution_count": 75,
      "outputs": [
        {
          "output_type": "execute_result",
          "data": {
            "text/plain": [
              "Index(['Restaurant_Name', 'Category', 'Pricing_for_2', 'Locality',\n",
              "       'Dining_Rating', 'Dining_Review_Count', 'Delivery_Rating',\n",
              "       'Delivery_Rating_Count', 'Website', 'Address', 'Phone_No', 'Latitude',\n",
              "       'Longitude', 'Known_For2', 'Known_For22'],\n",
              "      dtype='object')"
            ]
          },
          "metadata": {},
          "execution_count": 75
        }
      ]
    },
    {
      "cell_type": "code",
      "source": [
        "data['Dining_Rating']>4.5"
      ],
      "metadata": {
        "colab": {
          "base_uri": "https://localhost:8080/"
        },
        "id": "ncGPmblhN6_5",
        "outputId": "60e3c3f9-6edf-48bf-c532-8d2049db5e20"
      },
      "execution_count": 88,
      "outputs": [
        {
          "output_type": "execute_result",
          "data": {
            "text/plain": [
              "0        True\n",
              "1        True\n",
              "2        True\n",
              "3        True\n",
              "4        True\n",
              "        ...  \n",
              "1960    False\n",
              "1961    False\n",
              "1962    False\n",
              "1963    False\n",
              "1964    False\n",
              "Name: Dining_Rating, Length: 1965, dtype: bool"
            ]
          },
          "metadata": {},
          "execution_count": 88
        }
      ]
    },
    {
      "cell_type": "code",
      "source": [
        "data['Dining_Rating'].value_counts(normalize=True)\n"
      ],
      "metadata": {
        "colab": {
          "base_uri": "https://localhost:8080/"
        },
        "id": "ToezHFC2R4SE",
        "outputId": "d8d5eba4-295c-4e2b-b702-1352033ea686"
      },
      "execution_count": 140,
      "outputs": [
        {
          "output_type": "execute_result",
          "data": {
            "text/plain": [
              "4.0    0.230534\n",
              "4.1    0.195420\n",
              "3.9    0.169975\n",
              "4.2    0.152672\n",
              "4.3    0.101272\n",
              "4.4    0.065649\n",
              "4.5    0.040204\n",
              "4.6    0.022392\n",
              "4.7    0.012214\n",
              "4.8    0.005089\n",
              "4.9    0.004580\n",
              "Name: Dining_Rating, dtype: float64"
            ]
          },
          "metadata": {},
          "execution_count": 140
        }
      ]
    },
    {
      "cell_type": "code",
      "source": [
        "data['Restaurant_Name'].value_counts()\n"
      ],
      "metadata": {
        "colab": {
          "base_uri": "https://localhost:8080/"
        },
        "id": "d0KT5a-bbSOo",
        "outputId": "a3ea8e30-4d41-4b38-ce56-8c4b11427ce5"
      },
      "execution_count": 141,
      "outputs": [
        {
          "output_type": "execute_result",
          "data": {
            "text/plain": [
              "Punjabi Zaika                    4\n",
              "Champaran Meat House             3\n",
              "Kathi Junction                   3\n",
              "Open Tap                         3\n",
              "Changezi Chicken                 2\n",
              "                                ..\n",
              "Oasis - Vivanta by Taj           1\n",
              "Goosebumps                       1\n",
              "Pepper Pot - The Terrace Café    1\n",
              "Cake Castle                      1\n",
              "Pizzasia                         1\n",
              "Name: Restaurant_Name, Length: 1943, dtype: int64"
            ]
          },
          "metadata": {},
          "execution_count": 141
        }
      ]
    },
    {
      "cell_type": "code",
      "source": [
        "x1.shape\n"
      ],
      "metadata": {
        "colab": {
          "base_uri": "https://localhost:8080/"
        },
        "id": "OE_qKEijOfun",
        "outputId": "5e61ee78-4372-44de-ccb0-ca6dd32ed04a"
      },
      "execution_count": 102,
      "outputs": [
        {
          "output_type": "execute_result",
          "data": {
            "text/plain": [
              "(11,)"
            ]
          },
          "metadata": {},
          "execution_count": 102
        }
      ]
    },
    {
      "cell_type": "code",
      "source": [
        "df = pd.DataFrame(data, columns=(['Restaurant_Name', 'Category', 'Pricing_for_2', 'Locality',\n",
        "       'Dining_Rating', 'Dining_Review_Count', 'Delivery_Rating',\n",
        "       'Delivery_Rating_Count', 'Website', 'Address', 'Phone_No', 'Latitude',\n",
        "       'Longitude', 'Known_For2', 'Known_For22']))"
      ],
      "metadata": {
        "id": "E_3IIGo9UIul"
      },
      "execution_count": 105,
      "outputs": []
    },
    {
      "cell_type": "code",
      "source": [
        "df.plot(x=\"Restaurant_Name\", y=[\"Dining_Rating\"],kind='bar', figsize=(1,1))\n",
        "plt.xlabel(\"x\")\n",
        "plt.ylabel(\"y\")\n",
        "plt.show()"
      ],
      "metadata": {
        "colab": {
          "base_uri": "https://localhost:8080/",
          "height": 599
        },
        "id": "XXoQBKUIVF6w",
        "outputId": "79ff5921-6015-42ca-d1ed-d6f034de3e00"
      },
      "execution_count": 145,
      "outputs": [
        {
          "output_type": "display_data",
          "data": {
            "text/plain": [
              "<Figure size 100x100 with 1 Axes>"
            ],
            "image/png": "[encoded data removed]"
          },
          "metadata": {}
        }
      ]
    }
  ]
}